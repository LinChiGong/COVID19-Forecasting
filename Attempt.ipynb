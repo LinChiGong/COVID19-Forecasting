{
 "cells": [
  {
   "cell_type": "code",
   "execution_count": 1,
   "metadata": {},
   "outputs": [
    {
     "name": "stderr",
     "output_type": "stream",
     "text": [
      "\u001b[32m\u001b[1m   Updating\u001b[22m\u001b[39m registry at `C:\\Users\\zchen38\\.julia\\registries\\General`"
     ]
    },
    {
     "name": "stdout",
     "output_type": "stream",
     "text": [
      "\u001b[?25l"
     ]
    },
    {
     "name": "stderr",
     "output_type": "stream",
     "text": [
      "\n",
      "\u001b[32m\u001b[1m   Updating\u001b[22m\u001b[39m git-repo `https://github.com/JuliaRegistries/General.git`\n"
     ]
    },
    {
     "name": "stdout",
     "output_type": "stream",
     "text": [
      "\u001b[2K\u001b[?25h[1mFetching:\u001b[22m\u001b[39m [========================================>]  100.0 %"
     ]
    },
    {
     "name": "stderr",
     "output_type": "stream",
     "text": [
      "\u001b[32m\u001b[1m  Resolving\u001b[22m\u001b[39m package versions...\n",
      "\u001b[32m\u001b[1m   Updating\u001b[22m\u001b[39m `C:\\Users\\zchen38\\Desktop\\College Course Work\\DLDO\\Project\\Project.toml`\n",
      "\u001b[90m [no changes]\u001b[39m\n",
      "\u001b[32m\u001b[1m   Updating\u001b[22m\u001b[39m `C:\\Users\\zchen38\\Desktop\\College Course Work\\DLDO\\Project\\Manifest.toml`\n",
      "\u001b[90m [no changes]\u001b[39m\n",
      "\u001b[32m\u001b[1m  Resolving\u001b[22m\u001b[39m package versions...\n",
      "\u001b[32m\u001b[1m   Updating\u001b[22m\u001b[39m `C:\\Users\\zchen38\\Desktop\\College Course Work\\DLDO\\Project\\Project.toml`\n",
      "\u001b[90m [no changes]\u001b[39m\n",
      "\u001b[32m\u001b[1m   Updating\u001b[22m\u001b[39m `C:\\Users\\zchen38\\Desktop\\College Course Work\\DLDO\\Project\\Manifest.toml`\n",
      "\u001b[90m [no changes]\u001b[39m\n",
      "\u001b[32m\u001b[1m  Resolving\u001b[22m\u001b[39m package versions...\n",
      "\u001b[32m\u001b[1m   Updating\u001b[22m\u001b[39m `C:\\Users\\zchen38\\Desktop\\College Course Work\\DLDO\\Project\\Project.toml`\n",
      "\u001b[90m [no changes]\u001b[39m\n",
      "\u001b[32m\u001b[1m   Updating\u001b[22m\u001b[39m `C:\\Users\\zchen38\\Desktop\\College Course Work\\DLDO\\Project\\Manifest.toml`\n",
      "\u001b[90m [no changes]\u001b[39m\n",
      "\u001b[32m\u001b[1m  Resolving\u001b[22m\u001b[39m package versions...\n",
      "\u001b[32m\u001b[1m   Updating\u001b[22m\u001b[39m `C:\\Users\\zchen38\\Desktop\\College Course Work\\DLDO\\Project\\Project.toml`\n",
      "\u001b[90m [no changes]\u001b[39m\n",
      "\u001b[32m\u001b[1m   Updating\u001b[22m\u001b[39m `C:\\Users\\zchen38\\Desktop\\College Course Work\\DLDO\\Project\\Manifest.toml`\n",
      "\u001b[90m [no changes]\u001b[39m\n",
      "\u001b[32m\u001b[1m  Resolving\u001b[22m\u001b[39m package versions...\n",
      "\u001b[32m\u001b[1m   Updating\u001b[22m\u001b[39m `C:\\Users\\zchen38\\Desktop\\College Course Work\\DLDO\\Project\\Project.toml`\n",
      "\u001b[90m [no changes]\u001b[39m\n",
      "\u001b[32m\u001b[1m   Updating\u001b[22m\u001b[39m `C:\\Users\\zchen38\\Desktop\\College Course Work\\DLDO\\Project\\Manifest.toml`\n",
      "\u001b[90m [no changes]\u001b[39m\n",
      "\u001b[32m\u001b[1m  Resolving\u001b[22m\u001b[39m package versions...\n",
      "\u001b[32m\u001b[1m   Updating\u001b[22m\u001b[39m `C:\\Users\\zchen38\\Desktop\\College Course Work\\DLDO\\Project\\Project.toml`\n",
      "\u001b[90m [no changes]\u001b[39m\n",
      "\u001b[32m\u001b[1m   Updating\u001b[22m\u001b[39m `C:\\Users\\zchen38\\Desktop\\College Course Work\\DLDO\\Project\\Manifest.toml`\n",
      "\u001b[90m [no changes]\u001b[39m\n"
     ]
    }
   ],
   "source": [
    "import Pkg\n",
    "Pkg.add(\"MAT\")\n",
    "Pkg.add(\"HDF5\")\n",
    "Pkg.add(\"Gurobi\")\n",
    "Pkg.add(\"MIPVerify\")\n",
    "Pkg.add(\"CSV\")\n",
    "Pkg.add(\"DataFrames\")"
   ]
  },
  {
   "cell_type": "code",
   "execution_count": 2,
   "metadata": {
    "scrolled": true
   },
   "outputs": [
    {
     "name": "stderr",
     "output_type": "stream",
     "text": [
      "\u001b[32m\u001b[1m   Building\u001b[22m\u001b[39m CMake → `C:\\Users\\zchen38\\.julia\\packages\\CMake\\ULbyn\\deps\\build.log`\n",
      "\u001b[32m\u001b[1m   Building\u001b[22m\u001b[39m Blosc → `C:\\Users\\zchen38\\.julia\\packages\\Blosc\\ZgcAM\\deps\\build.log`\n",
      "\u001b[32m\u001b[1m   Building\u001b[22m\u001b[39m HDF5 ─→ `C:\\Users\\zchen38\\.julia\\packages\\HDF5\\ECBXn\\deps\\build.log`\n",
      "┌ Info: Precompiling MAT [23992714-dd62-5051-b70f-ba57cb901cac]\n",
      "└ @ Base loading.jl:1260\n",
      "┌ Info: Precompiling MIPVerify [e5e5f8be-2a6a-5994-adbb-5afbd0e30425]\n",
      "└ @ Base loading.jl:1260\n"
     ]
    }
   ],
   "source": [
    "Pkg.build(\"HDF5\")\n",
    "using MAT\n",
    "using Gurobi\n",
    "using JuMP\n",
    "using MIPVerify\n",
    "using CSV\n",
    "using DataFrames"
   ]
  },
  {
   "cell_type": "code",
   "execution_count": 3,
   "metadata": {},
   "outputs": [
    {
     "data": {
      "text/plain": [
       "Linear(20 -> 1)"
      ]
     },
     "execution_count": 3,
     "metadata": {},
     "output_type": "execute_result"
    }
   ],
   "source": [
    "param_dict = matread(\"DLDOModel.mat\")\n",
    "l1w = param_dict[\"layer_1.weight\"]\n",
    "l1b = param_dict[\"layer_1.bias\"]\n",
    "l1 = Linear(l1w, vec(l1b))\n",
    "#l1 = Linear(l1w, dropdims(l1b, dims=1))\n",
    "l2w = param_dict[\"layer_2.weight\"]\n",
    "l2b = param_dict[\"layer_2.bias\"]\n",
    "l2 = Linear(l2w, vec(l2b))\n",
    "#l2 = Linear(l2w, dropdims(l2b, dims=1))\n",
    "l3w = param_dict[\"layer_3.weight\"]\n",
    "l3b = param_dict[\"layer_3.bias\"]\n",
    "l3 = Linear(l3w, [l3b])\n",
    "#l3 = Linear(l3w, dropdims(l3b, dims=1))"
   ]
  },
  {
   "cell_type": "code",
   "execution_count": 4,
   "metadata": {},
   "outputs": [
    {
     "data": {
      "text/plain": [
       "sequential net DLDOProject.n1\n",
       "  (1) Linear(30 -> 20)\n",
       "  (2) ReLU()\n",
       "  (3) Linear(20 -> 20)\n",
       "  (4) ReLU()\n",
       "  (5) Linear(20 -> 1)\n"
      ]
     },
     "execution_count": 4,
     "metadata": {},
     "output_type": "execute_result"
    }
   ],
   "source": [
    "nn = Sequential([\n",
    "        l1,\n",
    "        ReLU(),\n",
    "        l2,\n",
    "        ReLU(),\n",
    "        l3\n",
    "    ], \"DLDOProject.n1\")"
   ]
  },
  {
   "cell_type": "code",
   "execution_count": 5,
   "metadata": {},
   "outputs": [
    {
     "data": {
      "text/html": [
       "<table class=\"data-frame\"><thead><tr><th></th><th>Column1</th><th>ConfirmedCases</th><th>Country/Region</th><th>Date</th><th>Fatalities</th><th>ForecastId</th><th>Id</th></tr><tr><th></th><th>Int64</th><th>Float64</th><th>String</th><th>Dates…</th><th>Float64</th><th>Missing</th><th>Float64</th></tr></thead><tbody><p>17,892 rows × 42 columns (omitted printing of 35 columns)</p><tr><th>1</th><td>0</td><td>0.0</td><td>Afghanistan</td><td>2020-01-22</td><td>0.0</td><td>missing</td><td>1.0</td></tr><tr><th>2</th><td>1</td><td>0.0</td><td>Afghanistan</td><td>2020-01-23</td><td>0.0</td><td>missing</td><td>2.0</td></tr><tr><th>3</th><td>2</td><td>0.0</td><td>Afghanistan</td><td>2020-01-24</td><td>0.0</td><td>missing</td><td>3.0</td></tr><tr><th>4</th><td>3</td><td>0.0</td><td>Afghanistan</td><td>2020-01-25</td><td>0.0</td><td>missing</td><td>4.0</td></tr><tr><th>5</th><td>4</td><td>0.0</td><td>Afghanistan</td><td>2020-01-26</td><td>0.0</td><td>missing</td><td>5.0</td></tr><tr><th>6</th><td>5</td><td>0.0</td><td>Afghanistan</td><td>2020-01-27</td><td>0.0</td><td>missing</td><td>6.0</td></tr><tr><th>7</th><td>6</td><td>0.0</td><td>Afghanistan</td><td>2020-01-28</td><td>0.0</td><td>missing</td><td>7.0</td></tr><tr><th>8</th><td>7</td><td>0.0</td><td>Afghanistan</td><td>2020-01-29</td><td>0.0</td><td>missing</td><td>8.0</td></tr><tr><th>9</th><td>8</td><td>0.0</td><td>Afghanistan</td><td>2020-01-30</td><td>0.0</td><td>missing</td><td>9.0</td></tr><tr><th>10</th><td>9</td><td>0.0</td><td>Afghanistan</td><td>2020-01-31</td><td>0.0</td><td>missing</td><td>10.0</td></tr><tr><th>11</th><td>10</td><td>0.0</td><td>Afghanistan</td><td>2020-02-01</td><td>0.0</td><td>missing</td><td>11.0</td></tr><tr><th>12</th><td>11</td><td>0.0</td><td>Afghanistan</td><td>2020-02-02</td><td>0.0</td><td>missing</td><td>12.0</td></tr><tr><th>13</th><td>12</td><td>0.0</td><td>Afghanistan</td><td>2020-02-03</td><td>0.0</td><td>missing</td><td>13.0</td></tr><tr><th>14</th><td>13</td><td>0.0</td><td>Afghanistan</td><td>2020-02-04</td><td>0.0</td><td>missing</td><td>14.0</td></tr><tr><th>15</th><td>14</td><td>0.0</td><td>Afghanistan</td><td>2020-02-05</td><td>0.0</td><td>missing</td><td>15.0</td></tr><tr><th>16</th><td>15</td><td>0.0</td><td>Afghanistan</td><td>2020-02-06</td><td>0.0</td><td>missing</td><td>16.0</td></tr><tr><th>17</th><td>16</td><td>0.0</td><td>Afghanistan</td><td>2020-02-07</td><td>0.0</td><td>missing</td><td>17.0</td></tr><tr><th>18</th><td>17</td><td>0.0</td><td>Afghanistan</td><td>2020-02-08</td><td>0.0</td><td>missing</td><td>18.0</td></tr><tr><th>19</th><td>18</td><td>0.0</td><td>Afghanistan</td><td>2020-02-09</td><td>0.0</td><td>missing</td><td>19.0</td></tr><tr><th>20</th><td>19</td><td>0.0</td><td>Afghanistan</td><td>2020-02-10</td><td>0.0</td><td>missing</td><td>20.0</td></tr><tr><th>21</th><td>20</td><td>0.0</td><td>Afghanistan</td><td>2020-02-11</td><td>0.0</td><td>missing</td><td>21.0</td></tr><tr><th>22</th><td>21</td><td>0.0</td><td>Afghanistan</td><td>2020-02-12</td><td>0.0</td><td>missing</td><td>22.0</td></tr><tr><th>23</th><td>22</td><td>0.0</td><td>Afghanistan</td><td>2020-02-13</td><td>0.0</td><td>missing</td><td>23.0</td></tr><tr><th>24</th><td>23</td><td>0.0</td><td>Afghanistan</td><td>2020-02-14</td><td>0.0</td><td>missing</td><td>24.0</td></tr><tr><th>25</th><td>24</td><td>0.0</td><td>Afghanistan</td><td>2020-02-15</td><td>0.0</td><td>missing</td><td>25.0</td></tr><tr><th>26</th><td>25</td><td>0.0</td><td>Afghanistan</td><td>2020-02-16</td><td>0.0</td><td>missing</td><td>26.0</td></tr><tr><th>27</th><td>26</td><td>0.0</td><td>Afghanistan</td><td>2020-02-17</td><td>0.0</td><td>missing</td><td>27.0</td></tr><tr><th>28</th><td>27</td><td>0.0</td><td>Afghanistan</td><td>2020-02-18</td><td>0.0</td><td>missing</td><td>28.0</td></tr><tr><th>29</th><td>28</td><td>0.0</td><td>Afghanistan</td><td>2020-02-19</td><td>0.0</td><td>missing</td><td>29.0</td></tr><tr><th>30</th><td>29</td><td>0.0</td><td>Afghanistan</td><td>2020-02-20</td><td>0.0</td><td>missing</td><td>30.0</td></tr><tr><th>&vellip;</th><td>&vellip;</td><td>&vellip;</td><td>&vellip;</td><td>&vellip;</td><td>&vellip;</td><td>&vellip;</td><td>&vellip;</td></tr></tbody></table>"
      ],
      "text/latex": [
       "\\begin{tabular}{r|cccccccc}\n",
       "\t& Column1 & ConfirmedCases & Country/Region & Date & Fatalities & ForecastId & Id & \\\\\n",
       "\t\\hline\n",
       "\t& Int64 & Float64 & String & Dates… & Float64 & Missing & Float64 & \\\\\n",
       "\t\\hline\n",
       "\t1 & 0 & 0.0 & Afghanistan & 2020-01-22 & 0.0 &  & 1.0 & $\\dots$ \\\\\n",
       "\t2 & 1 & 0.0 & Afghanistan & 2020-01-23 & 0.0 &  & 2.0 & $\\dots$ \\\\\n",
       "\t3 & 2 & 0.0 & Afghanistan & 2020-01-24 & 0.0 &  & 3.0 & $\\dots$ \\\\\n",
       "\t4 & 3 & 0.0 & Afghanistan & 2020-01-25 & 0.0 &  & 4.0 & $\\dots$ \\\\\n",
       "\t5 & 4 & 0.0 & Afghanistan & 2020-01-26 & 0.0 &  & 5.0 & $\\dots$ \\\\\n",
       "\t6 & 5 & 0.0 & Afghanistan & 2020-01-27 & 0.0 &  & 6.0 & $\\dots$ \\\\\n",
       "\t7 & 6 & 0.0 & Afghanistan & 2020-01-28 & 0.0 &  & 7.0 & $\\dots$ \\\\\n",
       "\t8 & 7 & 0.0 & Afghanistan & 2020-01-29 & 0.0 &  & 8.0 & $\\dots$ \\\\\n",
       "\t9 & 8 & 0.0 & Afghanistan & 2020-01-30 & 0.0 &  & 9.0 & $\\dots$ \\\\\n",
       "\t10 & 9 & 0.0 & Afghanistan & 2020-01-31 & 0.0 &  & 10.0 & $\\dots$ \\\\\n",
       "\t11 & 10 & 0.0 & Afghanistan & 2020-02-01 & 0.0 &  & 11.0 & $\\dots$ \\\\\n",
       "\t12 & 11 & 0.0 & Afghanistan & 2020-02-02 & 0.0 &  & 12.0 & $\\dots$ \\\\\n",
       "\t13 & 12 & 0.0 & Afghanistan & 2020-02-03 & 0.0 &  & 13.0 & $\\dots$ \\\\\n",
       "\t14 & 13 & 0.0 & Afghanistan & 2020-02-04 & 0.0 &  & 14.0 & $\\dots$ \\\\\n",
       "\t15 & 14 & 0.0 & Afghanistan & 2020-02-05 & 0.0 &  & 15.0 & $\\dots$ \\\\\n",
       "\t16 & 15 & 0.0 & Afghanistan & 2020-02-06 & 0.0 &  & 16.0 & $\\dots$ \\\\\n",
       "\t17 & 16 & 0.0 & Afghanistan & 2020-02-07 & 0.0 &  & 17.0 & $\\dots$ \\\\\n",
       "\t18 & 17 & 0.0 & Afghanistan & 2020-02-08 & 0.0 &  & 18.0 & $\\dots$ \\\\\n",
       "\t19 & 18 & 0.0 & Afghanistan & 2020-02-09 & 0.0 &  & 19.0 & $\\dots$ \\\\\n",
       "\t20 & 19 & 0.0 & Afghanistan & 2020-02-10 & 0.0 &  & 20.0 & $\\dots$ \\\\\n",
       "\t21 & 20 & 0.0 & Afghanistan & 2020-02-11 & 0.0 &  & 21.0 & $\\dots$ \\\\\n",
       "\t22 & 21 & 0.0 & Afghanistan & 2020-02-12 & 0.0 &  & 22.0 & $\\dots$ \\\\\n",
       "\t23 & 22 & 0.0 & Afghanistan & 2020-02-13 & 0.0 &  & 23.0 & $\\dots$ \\\\\n",
       "\t24 & 23 & 0.0 & Afghanistan & 2020-02-14 & 0.0 &  & 24.0 & $\\dots$ \\\\\n",
       "\t25 & 24 & 0.0 & Afghanistan & 2020-02-15 & 0.0 &  & 25.0 & $\\dots$ \\\\\n",
       "\t26 & 25 & 0.0 & Afghanistan & 2020-02-16 & 0.0 &  & 26.0 & $\\dots$ \\\\\n",
       "\t27 & 26 & 0.0 & Afghanistan & 2020-02-17 & 0.0 &  & 27.0 & $\\dots$ \\\\\n",
       "\t28 & 27 & 0.0 & Afghanistan & 2020-02-18 & 0.0 &  & 28.0 & $\\dots$ \\\\\n",
       "\t29 & 28 & 0.0 & Afghanistan & 2020-02-19 & 0.0 &  & 29.0 & $\\dots$ \\\\\n",
       "\t30 & 29 & 0.0 & Afghanistan & 2020-02-20 & 0.0 &  & 30.0 & $\\dots$ \\\\\n",
       "\t$\\dots$ & $\\dots$ & $\\dots$ & $\\dots$ & $\\dots$ & $\\dots$ & $\\dots$ & $\\dots$ &  \\\\\n",
       "\\end{tabular}\n"
      ],
      "text/plain": [
       "17892×42 DataFrame. Omitted printing of 37 columns\n",
       "│ Row   │ Column1 │ ConfirmedCases │ Country/Region │ Date       │ Fatalities │\n",
       "│       │ \u001b[90mInt64\u001b[39m   │ \u001b[90mFloat64\u001b[39m        │ \u001b[90mString\u001b[39m         │ \u001b[90mDates.Date\u001b[39m │ \u001b[90mFloat64\u001b[39m    │\n",
       "├───────┼─────────┼────────────────┼────────────────┼────────────┼────────────┤\n",
       "│ 1     │ 0       │ 0.0            │ Afghanistan    │ 2020-01-22 │ 0.0        │\n",
       "│ 2     │ 1       │ 0.0            │ Afghanistan    │ 2020-01-23 │ 0.0        │\n",
       "│ 3     │ 2       │ 0.0            │ Afghanistan    │ 2020-01-24 │ 0.0        │\n",
       "│ 4     │ 3       │ 0.0            │ Afghanistan    │ 2020-01-25 │ 0.0        │\n",
       "│ 5     │ 4       │ 0.0            │ Afghanistan    │ 2020-01-26 │ 0.0        │\n",
       "│ 6     │ 5       │ 0.0            │ Afghanistan    │ 2020-01-27 │ 0.0        │\n",
       "│ 7     │ 6       │ 0.0            │ Afghanistan    │ 2020-01-28 │ 0.0        │\n",
       "│ 8     │ 7       │ 0.0            │ Afghanistan    │ 2020-01-29 │ 0.0        │\n",
       "│ 9     │ 8       │ 0.0            │ Afghanistan    │ 2020-01-30 │ 0.0        │\n",
       "│ 10    │ 9       │ 0.0            │ Afghanistan    │ 2020-01-31 │ 0.0        │\n",
       "⋮\n",
       "│ 17882 │ 17881   │ 0.0            │ Zambia         │ 2020-03-14 │ 0.0        │\n",
       "│ 17883 │ 17882   │ 0.0            │ Zambia         │ 2020-03-15 │ 0.0        │\n",
       "│ 17884 │ 17883   │ 0.0            │ Zambia         │ 2020-03-16 │ 0.0        │\n",
       "│ 17885 │ 17884   │ 0.0            │ Zambia         │ 2020-03-17 │ 0.0        │\n",
       "│ 17886 │ 17885   │ 2.0            │ Zambia         │ 2020-03-18 │ 0.0        │\n",
       "│ 17887 │ 17886   │ 2.0            │ Zambia         │ 2020-03-19 │ 0.0        │\n",
       "│ 17888 │ 17887   │ 2.0            │ Zambia         │ 2020-03-20 │ 0.0        │\n",
       "│ 17889 │ 17888   │ 2.0            │ Zambia         │ 2020-03-21 │ 0.0        │\n",
       "│ 17890 │ 17889   │ 3.0            │ Zambia         │ 2020-03-22 │ 0.0        │\n",
       "│ 17891 │ 17890   │ 3.0            │ Zambia         │ 2020-03-23 │ 0.0        │\n",
       "│ 17892 │ 17891   │ 3.0            │ Zambia         │ 2020-03-24 │ 0.0        │"
      ]
     },
     "execution_count": 5,
     "metadata": {},
     "output_type": "execute_result"
    }
   ],
   "source": [
    "df = CSV.read(\"dldojtest.csv\")"
   ]
  },
  {
   "cell_type": "code",
   "execution_count": 6,
   "metadata": {},
   "outputs": [
    {
     "data": {
      "text/plain": [
       "30-element Array{Symbol,1}:\n",
       " :Lat\n",
       " :Long\n",
       " Symbol(\"Cases yesterday\")\n",
       " Symbol(\"Cases last week\")\n",
       " Symbol(\"Cases 2weeks ago\")\n",
       " Symbol(\"Cases 3weeks ago\")\n",
       " Symbol(\"Fatals yesterday\")\n",
       " Symbol(\"Fatals last week\")\n",
       " Symbol(\"Fatals 2weeks ago\")\n",
       " Symbol(\"Fatals 3weeks ago\")\n",
       " Symbol(\"Days since 1st case\")\n",
       " Symbol(\"Days since 10th case\")\n",
       " Symbol(\"Days since 100th case\")\n",
       " ⋮\n",
       " Symbol(\"GDP based on PPP\")\n",
       " Symbol(\"GDP per capita\")\n",
       " Symbol(\"GDP based on PPP share of world total\")\n",
       " Symbol(\"Unemployment rate\")\n",
       " :Population\n",
       " Symbol(\"Life expectancy\")\n",
       " Symbol(\"Population density\")\n",
       " Symbol(\"Median age\")\n",
       " Symbol(\"Urban population %\")\n",
       " Symbol(\"Hospital beds\")\n",
       " Symbol(\"Sex ratio\")\n",
       " Symbol(\"Death rate from lung diseases\")"
      ]
     },
     "execution_count": 6,
     "metadata": {},
     "output_type": "execute_result"
    }
   ],
   "source": [
    "col_target = Symbol(\"Cases/day\")\n",
    "col_features = [\n",
    "    #\"ConfirmedCases\"),\n",
    "    #\"Country/Region\"),\n",
    "    #\"Date\"),\n",
    "    #\"Fatalities\"),\n",
    "    #\"ForecastId\"),\n",
    "    #\"Id\"),\n",
    "    Symbol(\"Lat\"),\n",
    "    Symbol(\"Long\"),\n",
    "    #\"Province/State\"),\n",
    "    #\"Place\"),\n",
    "    #\"Day\"),\n",
    "    #\"Cases/day\"),\n",
    "    #\"Fatals/day\"),\n",
    "    Symbol(\"Cases yesterday\"),\n",
    "    Symbol(\"Cases last week\"),\n",
    "    Symbol(\"Cases 2weeks ago\"),\n",
    "    Symbol(\"Cases 3weeks ago\"),\n",
    "    Symbol(\"Fatals yesterday\"),\n",
    "    Symbol(\"Fatals last week\"),\n",
    "    Symbol(\"Fatals 2weeks ago\"),\n",
    "    Symbol(\"Fatals 3weeks ago\"),\n",
    "    Symbol(\"Days since 1st case\"),\n",
    "    Symbol(\"Days since 10th case\"),\n",
    "    Symbol(\"Days since 100th case\"),\n",
    "    Symbol(\"Days since 1st fatal\"),\n",
    "    Symbol(\"Days since 10th fatal\"),\n",
    "    Symbol(\"Days since 100th fatal\"),\n",
    "    Symbol(\"Smoking rate\"),\n",
    "    Symbol(\"Nominal GDP\"),\n",
    "    Symbol(\"GDP based on PPP\"),\n",
    "    Symbol(\"GDP per capita\"),\n",
    "    Symbol(\"GDP based on PPP share of world total\"),\n",
    "    Symbol(\"Unemployment rate\"),\n",
    "    Symbol(\"Population\"),\n",
    "    Symbol(\"Life expectancy\"),\n",
    "    Symbol(\"Population density\"),\n",
    "    Symbol(\"Median age\"),\n",
    "    Symbol(\"Urban population %\"),\n",
    "    Symbol(\"Hospital beds\"),\n",
    "    Symbol(\"Sex ratio\"),\n",
    "    Symbol(\"Death rate from lung diseases\")\n",
    "]"
   ]
  },
  {
   "cell_type": "code",
   "execution_count": 7,
   "metadata": {},
   "outputs": [
    {
     "data": {
      "text/html": [
       "<table class=\"data-frame\"><thead><tr><th></th><th>Lat</th><th>Long</th><th>Cases yesterday</th><th>Cases last week</th><th>Cases 2weeks ago</th><th>Cases 3weeks ago</th></tr><tr><th></th><th>Float64</th><th>Float64</th><th>Float64</th><th>Float64</th><th>Float64</th><th>Float64</th></tr></thead><tbody><p>17,892 rows × 30 columns (omitted printing of 24 columns)</p><tr><th>1</th><td>33.0</td><td>65.0</td><td>0.0</td><td>0.0</td><td>0.0</td><td>0.0</td></tr><tr><th>2</th><td>33.0</td><td>65.0</td><td>0.0</td><td>0.0</td><td>0.0</td><td>0.0</td></tr><tr><th>3</th><td>33.0</td><td>65.0</td><td>0.0</td><td>0.0</td><td>0.0</td><td>0.0</td></tr><tr><th>4</th><td>33.0</td><td>65.0</td><td>0.0</td><td>0.0</td><td>0.0</td><td>0.0</td></tr><tr><th>5</th><td>33.0</td><td>65.0</td><td>0.0</td><td>0.0</td><td>0.0</td><td>0.0</td></tr><tr><th>6</th><td>33.0</td><td>65.0</td><td>0.0</td><td>0.0</td><td>0.0</td><td>0.0</td></tr><tr><th>7</th><td>33.0</td><td>65.0</td><td>0.0</td><td>0.0</td><td>0.0</td><td>0.0</td></tr><tr><th>8</th><td>33.0</td><td>65.0</td><td>0.0</td><td>0.0</td><td>0.0</td><td>0.0</td></tr><tr><th>9</th><td>33.0</td><td>65.0</td><td>0.0</td><td>0.0</td><td>0.0</td><td>0.0</td></tr><tr><th>10</th><td>33.0</td><td>65.0</td><td>0.0</td><td>0.0</td><td>0.0</td><td>0.0</td></tr><tr><th>11</th><td>33.0</td><td>65.0</td><td>0.0</td><td>0.0</td><td>0.0</td><td>0.0</td></tr><tr><th>12</th><td>33.0</td><td>65.0</td><td>0.0</td><td>0.0</td><td>0.0</td><td>0.0</td></tr><tr><th>13</th><td>33.0</td><td>65.0</td><td>0.0</td><td>0.0</td><td>0.0</td><td>0.0</td></tr><tr><th>14</th><td>33.0</td><td>65.0</td><td>0.0</td><td>0.0</td><td>0.0</td><td>0.0</td></tr><tr><th>15</th><td>33.0</td><td>65.0</td><td>0.0</td><td>0.0</td><td>0.0</td><td>0.0</td></tr><tr><th>16</th><td>33.0</td><td>65.0</td><td>0.0</td><td>0.0</td><td>0.0</td><td>0.0</td></tr><tr><th>17</th><td>33.0</td><td>65.0</td><td>0.0</td><td>0.0</td><td>0.0</td><td>0.0</td></tr><tr><th>18</th><td>33.0</td><td>65.0</td><td>0.0</td><td>0.0</td><td>0.0</td><td>0.0</td></tr><tr><th>19</th><td>33.0</td><td>65.0</td><td>0.0</td><td>0.0</td><td>0.0</td><td>0.0</td></tr><tr><th>20</th><td>33.0</td><td>65.0</td><td>0.0</td><td>0.0</td><td>0.0</td><td>0.0</td></tr><tr><th>21</th><td>33.0</td><td>65.0</td><td>0.0</td><td>0.0</td><td>0.0</td><td>0.0</td></tr><tr><th>22</th><td>33.0</td><td>65.0</td><td>0.0</td><td>0.0</td><td>0.0</td><td>0.0</td></tr><tr><th>23</th><td>33.0</td><td>65.0</td><td>0.0</td><td>0.0</td><td>0.0</td><td>0.0</td></tr><tr><th>24</th><td>33.0</td><td>65.0</td><td>0.0</td><td>0.0</td><td>0.0</td><td>0.0</td></tr><tr><th>25</th><td>33.0</td><td>65.0</td><td>0.0</td><td>0.0</td><td>0.0</td><td>0.0</td></tr><tr><th>26</th><td>33.0</td><td>65.0</td><td>0.0</td><td>0.0</td><td>0.0</td><td>0.0</td></tr><tr><th>27</th><td>33.0</td><td>65.0</td><td>0.0</td><td>0.0</td><td>0.0</td><td>0.0</td></tr><tr><th>28</th><td>33.0</td><td>65.0</td><td>0.0</td><td>0.0</td><td>0.0</td><td>0.0</td></tr><tr><th>29</th><td>33.0</td><td>65.0</td><td>0.0</td><td>0.0</td><td>0.0</td><td>0.0</td></tr><tr><th>30</th><td>33.0</td><td>65.0</td><td>0.0</td><td>0.0</td><td>0.0</td><td>0.0</td></tr><tr><th>&vellip;</th><td>&vellip;</td><td>&vellip;</td><td>&vellip;</td><td>&vellip;</td><td>&vellip;</td><td>&vellip;</td></tr></tbody></table>"
      ],
      "text/latex": [
       "\\begin{tabular}{r|ccccccc}\n",
       "\t& Lat & Long & Cases yesterday & Cases last week & Cases 2weeks ago & Cases 3weeks ago & \\\\\n",
       "\t\\hline\n",
       "\t& Float64 & Float64 & Float64 & Float64 & Float64 & Float64 & \\\\\n",
       "\t\\hline\n",
       "\t1 & 33.0 & 65.0 & 0.0 & 0.0 & 0.0 & 0.0 & $\\dots$ \\\\\n",
       "\t2 & 33.0 & 65.0 & 0.0 & 0.0 & 0.0 & 0.0 & $\\dots$ \\\\\n",
       "\t3 & 33.0 & 65.0 & 0.0 & 0.0 & 0.0 & 0.0 & $\\dots$ \\\\\n",
       "\t4 & 33.0 & 65.0 & 0.0 & 0.0 & 0.0 & 0.0 & $\\dots$ \\\\\n",
       "\t5 & 33.0 & 65.0 & 0.0 & 0.0 & 0.0 & 0.0 & $\\dots$ \\\\\n",
       "\t6 & 33.0 & 65.0 & 0.0 & 0.0 & 0.0 & 0.0 & $\\dots$ \\\\\n",
       "\t7 & 33.0 & 65.0 & 0.0 & 0.0 & 0.0 & 0.0 & $\\dots$ \\\\\n",
       "\t8 & 33.0 & 65.0 & 0.0 & 0.0 & 0.0 & 0.0 & $\\dots$ \\\\\n",
       "\t9 & 33.0 & 65.0 & 0.0 & 0.0 & 0.0 & 0.0 & $\\dots$ \\\\\n",
       "\t10 & 33.0 & 65.0 & 0.0 & 0.0 & 0.0 & 0.0 & $\\dots$ \\\\\n",
       "\t11 & 33.0 & 65.0 & 0.0 & 0.0 & 0.0 & 0.0 & $\\dots$ \\\\\n",
       "\t12 & 33.0 & 65.0 & 0.0 & 0.0 & 0.0 & 0.0 & $\\dots$ \\\\\n",
       "\t13 & 33.0 & 65.0 & 0.0 & 0.0 & 0.0 & 0.0 & $\\dots$ \\\\\n",
       "\t14 & 33.0 & 65.0 & 0.0 & 0.0 & 0.0 & 0.0 & $\\dots$ \\\\\n",
       "\t15 & 33.0 & 65.0 & 0.0 & 0.0 & 0.0 & 0.0 & $\\dots$ \\\\\n",
       "\t16 & 33.0 & 65.0 & 0.0 & 0.0 & 0.0 & 0.0 & $\\dots$ \\\\\n",
       "\t17 & 33.0 & 65.0 & 0.0 & 0.0 & 0.0 & 0.0 & $\\dots$ \\\\\n",
       "\t18 & 33.0 & 65.0 & 0.0 & 0.0 & 0.0 & 0.0 & $\\dots$ \\\\\n",
       "\t19 & 33.0 & 65.0 & 0.0 & 0.0 & 0.0 & 0.0 & $\\dots$ \\\\\n",
       "\t20 & 33.0 & 65.0 & 0.0 & 0.0 & 0.0 & 0.0 & $\\dots$ \\\\\n",
       "\t21 & 33.0 & 65.0 & 0.0 & 0.0 & 0.0 & 0.0 & $\\dots$ \\\\\n",
       "\t22 & 33.0 & 65.0 & 0.0 & 0.0 & 0.0 & 0.0 & $\\dots$ \\\\\n",
       "\t23 & 33.0 & 65.0 & 0.0 & 0.0 & 0.0 & 0.0 & $\\dots$ \\\\\n",
       "\t24 & 33.0 & 65.0 & 0.0 & 0.0 & 0.0 & 0.0 & $\\dots$ \\\\\n",
       "\t25 & 33.0 & 65.0 & 0.0 & 0.0 & 0.0 & 0.0 & $\\dots$ \\\\\n",
       "\t26 & 33.0 & 65.0 & 0.0 & 0.0 & 0.0 & 0.0 & $\\dots$ \\\\\n",
       "\t27 & 33.0 & 65.0 & 0.0 & 0.0 & 0.0 & 0.0 & $\\dots$ \\\\\n",
       "\t28 & 33.0 & 65.0 & 0.0 & 0.0 & 0.0 & 0.0 & $\\dots$ \\\\\n",
       "\t29 & 33.0 & 65.0 & 0.0 & 0.0 & 0.0 & 0.0 & $\\dots$ \\\\\n",
       "\t30 & 33.0 & 65.0 & 0.0 & 0.0 & 0.0 & 0.0 & $\\dots$ \\\\\n",
       "\t$\\dots$ & $\\dots$ & $\\dots$ & $\\dots$ & $\\dots$ & $\\dots$ & $\\dots$ &  \\\\\n",
       "\\end{tabular}\n"
      ],
      "text/plain": [
       "17892×30 DataFrame. Omitted printing of 26 columns\n",
       "│ Row   │ Lat      │ Long    │ Cases yesterday │ Cases last week │\n",
       "│       │ \u001b[90mFloat64\u001b[39m  │ \u001b[90mFloat64\u001b[39m │ \u001b[90mFloat64\u001b[39m         │ \u001b[90mFloat64\u001b[39m         │\n",
       "├───────┼──────────┼─────────┼─────────────────┼─────────────────┤\n",
       "│ 1     │ 33.0     │ 65.0    │ 0.0             │ 0.0             │\n",
       "│ 2     │ 33.0     │ 65.0    │ 0.0             │ 0.0             │\n",
       "│ 3     │ 33.0     │ 65.0    │ 0.0             │ 0.0             │\n",
       "│ 4     │ 33.0     │ 65.0    │ 0.0             │ 0.0             │\n",
       "│ 5     │ 33.0     │ 65.0    │ 0.0             │ 0.0             │\n",
       "│ 6     │ 33.0     │ 65.0    │ 0.0             │ 0.0             │\n",
       "│ 7     │ 33.0     │ 65.0    │ 0.0             │ 0.0             │\n",
       "│ 8     │ 33.0     │ 65.0    │ 0.0             │ 0.0             │\n",
       "│ 9     │ 33.0     │ 65.0    │ 0.0             │ 0.0             │\n",
       "│ 10    │ 33.0     │ 65.0    │ 0.0             │ 0.0             │\n",
       "⋮\n",
       "│ 17882 │ -15.4167 │ 28.2833 │ 0.0             │ 0.0             │\n",
       "│ 17883 │ -15.4167 │ 28.2833 │ 0.0             │ 0.0             │\n",
       "│ 17884 │ -15.4167 │ 28.2833 │ 0.0             │ 0.0             │\n",
       "│ 17885 │ -15.4167 │ 28.2833 │ 0.0             │ 0.0             │\n",
       "│ 17886 │ -15.4167 │ 28.2833 │ 0.0             │ 0.0             │\n",
       "│ 17887 │ -15.4167 │ 28.2833 │ 2.0             │ 0.285714        │\n",
       "│ 17888 │ -15.4167 │ 28.2833 │ 0.0             │ 0.285714        │\n",
       "│ 17889 │ -15.4167 │ 28.2833 │ 0.0             │ 0.285714        │\n",
       "│ 17890 │ -15.4167 │ 28.2833 │ 0.0             │ 0.285714        │\n",
       "│ 17891 │ -15.4167 │ 28.2833 │ 1.0             │ 0.428571        │\n",
       "│ 17892 │ -15.4167 │ 28.2833 │ 0.0             │ 0.428571        │"
      ]
     },
     "execution_count": 7,
     "metadata": {},
     "output_type": "execute_result"
    }
   ],
   "source": [
    "xdf = df[:, [x for x in names(df) if x in col_features]]"
   ]
  },
  {
   "cell_type": "code",
   "execution_count": 8,
   "metadata": {},
   "outputs": [
    {
     "data": {
      "text/plain": [
       "DataFrameRow{DataFrame,DataFrames.Index}"
      ]
     },
     "execution_count": 8,
     "metadata": {},
     "output_type": "execute_result"
    }
   ],
   "source": [
    "Xex = xdf[54,:]\n",
    "Yex = df[54,col_target]\n",
    "typeof(Xex)"
   ]
  },
  {
   "cell_type": "code",
   "execution_count": 9,
   "metadata": {},
   "outputs": [
    {
     "name": "stdout",
     "output_type": "stream",
     "text": [
      "gay1gay\u001b[36m[notice | MIPVerify]: Attempting to find adversarial example. Neural net predicted label is 1, target labels are [5]\u001b[39m\n",
      "\u001b[36m[notice | MIPVerify]: Rebuilding model from scratch. This may take some time as we determine upper and lower bounds for the input to each non-linear unit.\u001b[39m\n"
     ]
    },
    {
     "name": "stderr",
     "output_type": "stream",
     "text": [
      "\u001b[32m  Calculating upper bounds: 100%|███████████████████████| Time: 0:00:00\u001b[39m\n"
     ]
    },
    {
     "name": "stdout",
     "output_type": "stream",
     "text": [
      "Academic license - for non-commercial use only\r\n"
     ]
    },
    {
     "name": "stderr",
     "output_type": "stream",
     "text": [
      "\u001b[32m  Calculating lower bounds: 100%|███████████████████████| Time: 0:00:00\u001b[39m\n",
      "\u001b[32m  Imposing relu constraint: 100%|███████████████████████| Time: 0:00:00\u001b[39m\n",
      "\u001b[32m  Calculating upper bounds: 100%|███████████████████████| Time: 0:00:01\u001b[39m\n",
      "\u001b[32m  Calculating lower bounds: 100%|███████████████████████| Time: 0:00:00\u001b[39m\n"
     ]
    },
    {
     "name": "stdout",
     "output_type": "stream",
     "text": [
      "\u001b[36m[notice | MIPVerify]: The model built will be cached and re-used for future solves, unless you explicitly set rebuild=true.\u001b[39m\n"
     ]
    },
    {
     "ename": "ArgumentError",
     "evalue": "ArgumentError: reducing over an empty collection is not allowed",
     "output_type": "error",
     "traceback": [
      "ArgumentError: reducing over an empty collection is not allowed",
      "",
      "Stacktrace:",
      " [1] _empty_reduce_error() at .\\reduce.jl:295",
      " [2] reduce_empty(::Function, ::Type{T} where T) at .\\reduce.jl:305",
      " [3] mapreduce_empty(::typeof(identity), ::Function, ::Type{T} where T) at .\\reduce.jl:335",
      " [4] _mapreduce(::typeof(identity), ::typeof(max), ::IndexLinear, ::Array{Float64,1}) at .\\reduce.jl:392",
      " [5] _mapreduce_dim at .\\reducedim.jl:312 [inlined]",
      " [6] #mapreduce#580 at .\\reducedim.jl:307 [inlined]",
      " [7] mapreduce at .\\reducedim.jl:307 [inlined]",
      " [8] _maximum at .\\reducedim.jl:657 [inlined]",
      " [9] _maximum at .\\reducedim.jl:656 [inlined]",
      " [10] #maximum#587 at .\\reducedim.jl:652 [inlined]",
      " [11] maximum at .\\reducedim.jl:652 [inlined]",
      " [12] maximum at C:\\Users\\zchen38\\.julia\\packages\\MIPVerify\\2slfm\\src\\net_components\\core_ops.jl:295 [inlined]",
      " [13] |> at .\\operators.jl:823 [inlined]",
      " [14] maximum_of_constants(::Array{JuMP.GenericAffExpr{Float64,Variable},1}) at C:\\Users\\zchen38\\.julia\\packages\\MIPVerify\\2slfm\\src\\net_components\\core_ops.jl:300",
      " [15] maximum(::Array{JuMP.GenericAffExpr{Float64,Variable},1}) at C:\\Users\\zchen38\\.julia\\packages\\MIPVerify\\2slfm\\src\\net_components\\core_ops.jl:314",
      " [16] get_vars_for_max_index(::Array{JuMP.GenericAffExpr{Float64,Variable},1}, ::Array{Int64,1}, ::Float64) at C:\\Users\\zchen38\\.julia\\packages\\MIPVerify\\2slfm\\src\\net_components\\core_ops.jl:455",
      " [17] set_max_indexes(::Model, ::Array{JuMP.GenericAffExpr{Float64,Variable},1}, ::Array{Int64,1}; tolerance::Float64) at C:\\Users\\zchen38\\.julia\\packages\\MIPVerify\\2slfm\\src\\net_components\\core_ops.jl:475",
      " [18] macro expansion at C:\\Users\\zchen38\\.julia\\packages\\MIPVerify\\2slfm\\src\\MIPVerify.jl:129 [inlined]",
      " [19] macro expansion at .\\util.jl:234 [inlined]",
      " [20] find_adversarial_example(::Sequential, ::Array{Float64,1}, ::Int64, ::GurobiSolver; invert_target_selection::Bool, pp::MIPVerify.UnrestrictedPerturbationFamily, norm_order::Int64, tolerance::Float64, rebuild::Bool, tightening_algorithm::MIPVerify.TighteningAlgorithm, tightening_solver::GurobiSolver, cache_model::Bool, solve_if_predicted_in_targeted::Bool, adversarial_example_objective::MIPVerify.AdversarialExampleObjective) at C:\\Users\\zchen38\\.julia\\packages\\MIPVerify\\2slfm\\src\\MIPVerify.jl:103",
      " [21] find_adversarial_example(::Sequential, ::Array{Float64,1}, ::Int64, ::GurobiSolver) at C:\\Users\\zchen38\\.julia\\packages\\MIPVerify\\2slfm\\src\\MIPVerify.jl:102",
      " [22] top-level scope at In[9]:1"
     ]
    }
   ],
   "source": [
    "find_adversarial_example(nn, convert(Array, Xex), Yex, GurobiSolver())"
   ]
  }
 ],
 "metadata": {
  "kernelspec": {
   "display_name": "Julia 1.4.1",
   "language": "julia",
   "name": "julia-1.4"
  },
  "language_info": {
   "file_extension": ".jl",
   "mimetype": "application/julia",
   "name": "julia",
   "version": "1.4.1"
  }
 },
 "nbformat": 4,
 "nbformat_minor": 2
}
