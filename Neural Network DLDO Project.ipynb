{
 "cells": [
  {
   "cell_type": "code",
   "execution_count": 1,
   "metadata": {},
   "outputs": [],
   "source": [
    "import os\n",
    "import sys\n",
    "import pdb\n",
    "import numpy as np\n",
    "import matplotlib.cm as cm\n",
    "import matplotlib.pyplot as plt\n",
    "from mpl_toolkits.mplot3d import Axes3D"
   ]
  },
  {
   "cell_type": "code",
   "execution_count": 2,
   "metadata": {},
   "outputs": [],
   "source": [
    "import torch\n",
    "import torch.autograd as autograd\n",
    "from torch.autograd import Variable\n",
    "import torch.nn as nn\n",
    "import torch.nn.functional as F\n",
    "import torch.optim as optim"
   ]
  },
  {
   "cell_type": "markdown",
   "metadata": {},
   "source": [
    "## Read in Covid Data"
   ]
  },
  {
   "cell_type": "code",
   "execution_count": null,
   "metadata": {},
   "outputs": [],
   "source": [
    "#TO BE COMPLETED\n",
    "#Should split data into train_x, train_y, test_x, test_y"
   ]
  },
  {
   "cell_type": "markdown",
   "metadata": {},
   "source": [
    "## Neural Network"
   ]
  },
  {
   "cell_type": "code",
   "execution_count": 3,
   "metadata": {},
   "outputs": [],
   "source": [
    "class Net(torch.nn.Module):\n",
    "    def __init__(self):        \n",
    "        super(LinearNet, self).__init__()\n",
    "        # TODO: Filling in Model Layers, these are just placeholders\n",
    "        self.L1      = torch.nn.Linear(size_1, size_2)\n",
    "        self.L2      = torch.nn.Linear(size_3, size_4)\n",
    "        self.ReLU    = torch.nn.ReLU()\n",
    "        self.Dropout = torch.nn.Dropout(p=0.3)\n",
    "        \n",
    "    def forward(self, x):\n",
    "        ''' forward pass '''\n",
    "        # TODO: Implement Model Layers in Forward Pass\n",
    "        pass\n",
    "\n",
    "    def predict(self, x):\n",
    "        ''' predict forecast '''\n",
    "        # TODO: Predict Forecast Given Data\n",
    "        pass"
   ]
  },
  {
   "cell_type": "code",
   "execution_count": 4,
   "metadata": {},
   "outputs": [],
   "source": [
    "#Training Parameters, We can Tweak These\n",
    "batch_size  = 10 \n",
    "epochs      = 150\n",
    "learning_rate = 0.0001"
   ]
  },
  {
   "cell_type": "code",
   "execution_count": null,
   "metadata": {},
   "outputs": [],
   "source": [
    "def batch():\n",
    "    #This may or may not return indexing errors\n",
    "    numsamples = np.shape(train_x)[0]\n",
    "    r = np.random.random_integers(0, numsamples - batch_size)\n",
    "    x_batch = train_x[r:r+batch_size]\n",
    "    y_batch = train_y[r:r+batch_size]\n",
    "    return x_batch, y_batch"
   ]
  },
  {
   "cell_type": "code",
   "execution_count": 7,
   "metadata": {},
   "outputs": [],
   "source": [
    "model = Net()\n",
    "# TODO: choose a loss function, Use BCE? Hard to Say, we have two outputs\n",
    "loss_fn = None \n",
    "# TODO: choose an optimizer, SGD or ADAM. SGD allows for control of stuff like weight decay and momentum\n",
    "optimizer = None"
   ]
  },
  {
   "cell_type": "code",
   "execution_count": null,
   "metadata": {},
   "outputs": [],
   "source": [
    "''' Training Loop  '''\n",
    "Loss = []\n",
    "Train_Accuracy = []\n",
    "Test_Accuracy  = []\n",
    "\n",
    "for epic in range(epochs):\n",
    "    model.train()\n",
    "    # TODO: implement training on your network, compute the loss, update weights\n",
    "    input_batch, output_batch = batch()\n",
    "    optimizer.zero_grad() \n",
    "    output = model(input_batch)\n",
    "    loss = loss_fn(output, output_batch) \n",
    "    loss.backward() optimizer.step()\n",
    "\n",
    "          "
   ]
  }
 ],
 "metadata": {
  "kernelspec": {
   "display_name": "Python 3",
   "language": "python",
   "name": "python3"
  },
  "language_info": {
   "codemirror_mode": {
    "name": "ipython",
    "version": 3
   },
   "file_extension": ".py",
   "mimetype": "text/x-python",
   "name": "python",
   "nbconvert_exporter": "python",
   "pygments_lexer": "ipython3",
   "version": "3.7.1"
  }
 },
 "nbformat": 4,
 "nbformat_minor": 2
}
