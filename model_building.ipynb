{
  "nbformat": 4,
  "nbformat_minor": 0,
  "metadata": {
    "accelerator": "GPU",
    "colab": {
      "name": "DL_in_DO_pytorch.ipynb",
      "provenance": [],
      "collapsed_sections": [],
      "toc_visible": true,
      "include_colab_link": true
    },
    "kernelspec": {
      "display_name": "Python 3",
      "language": "python",
      "name": "python3"
    },
    "language_info": {
      "codemirror_mode": {
        "name": "ipython",
        "version": 3
      },
      "file_extension": ".py",
      "mimetype": "text/x-python",
      "name": "python",
      "nbconvert_exporter": "python",
      "pygments_lexer": "ipython3",
      "version": "3.7.4"
    }
  },
  "cells": [
    {
      "cell_type": "markdown",
      "metadata": {
        "id": "view-in-github",
        "colab_type": "text"
      },
      "source": [
        "<a href=\"https://colab.research.google.com/github/LinChiGong/COVID19-Forecasting/blob/master/model_building.ipynb\" target=\"_parent\"><img src=\"https://colab.research.google.com/assets/colab-badge.svg\" alt=\"Open In Colab\"/></a>"
      ]
    },
    {
      "cell_type": "code",
      "metadata": {
        "colab_type": "code",
        "id": "QgLdNfutnbtQ",
        "colab": {}
      },
      "source": [
        "import pandas as pd\n",
        "import numpy as np\n",
        "import matplotlib.pyplot as plt\n",
        "\n",
        "from sklearn.preprocessing import MinMaxScaler\n",
        "from sklearn.preprocessing import StandardScaler\n",
        "from sklearn.model_selection import train_test_split\n",
        "import random\n",
        "import math\n",
        "\n",
        "import torch\n",
        "import torch.nn as nn\n",
        "import time"
      ],
      "execution_count": 0,
      "outputs": []
    },
    {
      "cell_type": "markdown",
      "metadata": {
        "id": "Pz7JcB7w7pMJ",
        "colab_type": "text"
      },
      "source": [
        "## Load data"
      ]
    },
    {
      "cell_type": "markdown",
      "metadata": {
        "colab_type": "text",
        "id": "N5ud7ShcnhhD"
      },
      "source": [
        "Load the data into tensors."
      ]
    },
    {
      "cell_type": "code",
      "metadata": {
        "id": "WxBXt_t_7pMK",
        "colab_type": "code",
        "colab": {
          "base_uri": "https://localhost:8080/",
          "height": 434
        },
        "outputId": "d4c2e226-17c2-4d47-8456-ef28016b1ae8"
      },
      "source": [
        "df = pd.read_csv('data/train.csv')\n",
        "print(df.shape)\n",
        "df.head()"
      ],
      "execution_count": 2,
      "outputs": [
        {
          "output_type": "stream",
          "text": [
            "(17892, 41)\n"
          ],
          "name": "stdout"
        },
        {
          "output_type": "execute_result",
          "data": {
            "text/html": [
              "<div>\n",
              "<style scoped>\n",
              "    .dataframe tbody tr th:only-of-type {\n",
              "        vertical-align: middle;\n",
              "    }\n",
              "\n",
              "    .dataframe tbody tr th {\n",
              "        vertical-align: top;\n",
              "    }\n",
              "\n",
              "    .dataframe thead th {\n",
              "        text-align: right;\n",
              "    }\n",
              "</style>\n",
              "<table border=\"1\" class=\"dataframe\">\n",
              "  <thead>\n",
              "    <tr style=\"text-align: right;\">\n",
              "      <th></th>\n",
              "      <th>ConfirmedCases</th>\n",
              "      <th>Country/Region</th>\n",
              "      <th>Date</th>\n",
              "      <th>Fatalities</th>\n",
              "      <th>ForecastId</th>\n",
              "      <th>Id</th>\n",
              "      <th>Lat</th>\n",
              "      <th>Long</th>\n",
              "      <th>Province/State</th>\n",
              "      <th>Place</th>\n",
              "      <th>Day</th>\n",
              "      <th>Cases/day</th>\n",
              "      <th>Fatals/day</th>\n",
              "      <th>Cases yesterday</th>\n",
              "      <th>Cases last week</th>\n",
              "      <th>Cases 2weeks ago</th>\n",
              "      <th>Cases 3weeks ago</th>\n",
              "      <th>Fatals yesterday</th>\n",
              "      <th>Fatals last week</th>\n",
              "      <th>Fatals 2weeks ago</th>\n",
              "      <th>Fatals 3weeks ago</th>\n",
              "      <th>Days since 1st case</th>\n",
              "      <th>Days since 10th case</th>\n",
              "      <th>Days since 100th case</th>\n",
              "      <th>Days since 1st fatal</th>\n",
              "      <th>Days since 10th fatal</th>\n",
              "      <th>Days since 100th fatal</th>\n",
              "      <th>Smoking rate</th>\n",
              "      <th>Nominal GDP</th>\n",
              "      <th>GDP based on PPP</th>\n",
              "      <th>GDP per capita</th>\n",
              "      <th>GDP based on PPP share of world total</th>\n",
              "      <th>Unemployment rate</th>\n",
              "      <th>Population</th>\n",
              "      <th>Life expectancy</th>\n",
              "      <th>Population density</th>\n",
              "      <th>Median age</th>\n",
              "      <th>Urban population %</th>\n",
              "      <th>Hospital beds</th>\n",
              "      <th>Sex ratio</th>\n",
              "      <th>Death rate from lung diseases</th>\n",
              "    </tr>\n",
              "  </thead>\n",
              "  <tbody>\n",
              "    <tr>\n",
              "      <th>0</th>\n",
              "      <td>0.0</td>\n",
              "      <td>Afghanistan</td>\n",
              "      <td>2020-01-22</td>\n",
              "      <td>0.0</td>\n",
              "      <td>NaN</td>\n",
              "      <td>1.0</td>\n",
              "      <td>33.0</td>\n",
              "      <td>65.0</td>\n",
              "      <td>NaN</td>\n",
              "      <td>Afghanistan</td>\n",
              "      <td>1</td>\n",
              "      <td>0</td>\n",
              "      <td>0</td>\n",
              "      <td>0.0</td>\n",
              "      <td>0.0</td>\n",
              "      <td>0.0</td>\n",
              "      <td>0.0</td>\n",
              "      <td>0.0</td>\n",
              "      <td>0.0</td>\n",
              "      <td>0.0</td>\n",
              "      <td>0.0</td>\n",
              "      <td>0</td>\n",
              "      <td>0</td>\n",
              "      <td>0</td>\n",
              "      <td>0</td>\n",
              "      <td>0</td>\n",
              "      <td>0</td>\n",
              "      <td>20.475517</td>\n",
              "      <td>18.734</td>\n",
              "      <td>76.486</td>\n",
              "      <td>513.108</td>\n",
              "      <td>0.054</td>\n",
              "      <td>NaN</td>\n",
              "      <td>36.51</td>\n",
              "      <td>64.5</td>\n",
              "      <td>60.0</td>\n",
              "      <td>18.0</td>\n",
              "      <td>25.0</td>\n",
              "      <td>0.5</td>\n",
              "      <td>1.03</td>\n",
              "      <td>37.62</td>\n",
              "    </tr>\n",
              "    <tr>\n",
              "      <th>1</th>\n",
              "      <td>0.0</td>\n",
              "      <td>Afghanistan</td>\n",
              "      <td>2020-01-23</td>\n",
              "      <td>0.0</td>\n",
              "      <td>NaN</td>\n",
              "      <td>2.0</td>\n",
              "      <td>33.0</td>\n",
              "      <td>65.0</td>\n",
              "      <td>NaN</td>\n",
              "      <td>Afghanistan</td>\n",
              "      <td>2</td>\n",
              "      <td>0</td>\n",
              "      <td>0</td>\n",
              "      <td>0.0</td>\n",
              "      <td>0.0</td>\n",
              "      <td>0.0</td>\n",
              "      <td>0.0</td>\n",
              "      <td>0.0</td>\n",
              "      <td>0.0</td>\n",
              "      <td>0.0</td>\n",
              "      <td>0.0</td>\n",
              "      <td>0</td>\n",
              "      <td>0</td>\n",
              "      <td>0</td>\n",
              "      <td>0</td>\n",
              "      <td>0</td>\n",
              "      <td>0</td>\n",
              "      <td>20.475517</td>\n",
              "      <td>18.734</td>\n",
              "      <td>76.486</td>\n",
              "      <td>513.108</td>\n",
              "      <td>0.054</td>\n",
              "      <td>NaN</td>\n",
              "      <td>36.51</td>\n",
              "      <td>64.5</td>\n",
              "      <td>60.0</td>\n",
              "      <td>18.0</td>\n",
              "      <td>25.0</td>\n",
              "      <td>0.5</td>\n",
              "      <td>1.03</td>\n",
              "      <td>37.62</td>\n",
              "    </tr>\n",
              "    <tr>\n",
              "      <th>2</th>\n",
              "      <td>0.0</td>\n",
              "      <td>Afghanistan</td>\n",
              "      <td>2020-01-24</td>\n",
              "      <td>0.0</td>\n",
              "      <td>NaN</td>\n",
              "      <td>3.0</td>\n",
              "      <td>33.0</td>\n",
              "      <td>65.0</td>\n",
              "      <td>NaN</td>\n",
              "      <td>Afghanistan</td>\n",
              "      <td>3</td>\n",
              "      <td>0</td>\n",
              "      <td>0</td>\n",
              "      <td>0.0</td>\n",
              "      <td>0.0</td>\n",
              "      <td>0.0</td>\n",
              "      <td>0.0</td>\n",
              "      <td>0.0</td>\n",
              "      <td>0.0</td>\n",
              "      <td>0.0</td>\n",
              "      <td>0.0</td>\n",
              "      <td>0</td>\n",
              "      <td>0</td>\n",
              "      <td>0</td>\n",
              "      <td>0</td>\n",
              "      <td>0</td>\n",
              "      <td>0</td>\n",
              "      <td>20.475517</td>\n",
              "      <td>18.734</td>\n",
              "      <td>76.486</td>\n",
              "      <td>513.108</td>\n",
              "      <td>0.054</td>\n",
              "      <td>NaN</td>\n",
              "      <td>36.51</td>\n",
              "      <td>64.5</td>\n",
              "      <td>60.0</td>\n",
              "      <td>18.0</td>\n",
              "      <td>25.0</td>\n",
              "      <td>0.5</td>\n",
              "      <td>1.03</td>\n",
              "      <td>37.62</td>\n",
              "    </tr>\n",
              "    <tr>\n",
              "      <th>3</th>\n",
              "      <td>0.0</td>\n",
              "      <td>Afghanistan</td>\n",
              "      <td>2020-01-25</td>\n",
              "      <td>0.0</td>\n",
              "      <td>NaN</td>\n",
              "      <td>4.0</td>\n",
              "      <td>33.0</td>\n",
              "      <td>65.0</td>\n",
              "      <td>NaN</td>\n",
              "      <td>Afghanistan</td>\n",
              "      <td>4</td>\n",
              "      <td>0</td>\n",
              "      <td>0</td>\n",
              "      <td>0.0</td>\n",
              "      <td>0.0</td>\n",
              "      <td>0.0</td>\n",
              "      <td>0.0</td>\n",
              "      <td>0.0</td>\n",
              "      <td>0.0</td>\n",
              "      <td>0.0</td>\n",
              "      <td>0.0</td>\n",
              "      <td>0</td>\n",
              "      <td>0</td>\n",
              "      <td>0</td>\n",
              "      <td>0</td>\n",
              "      <td>0</td>\n",
              "      <td>0</td>\n",
              "      <td>20.475517</td>\n",
              "      <td>18.734</td>\n",
              "      <td>76.486</td>\n",
              "      <td>513.108</td>\n",
              "      <td>0.054</td>\n",
              "      <td>NaN</td>\n",
              "      <td>36.51</td>\n",
              "      <td>64.5</td>\n",
              "      <td>60.0</td>\n",
              "      <td>18.0</td>\n",
              "      <td>25.0</td>\n",
              "      <td>0.5</td>\n",
              "      <td>1.03</td>\n",
              "      <td>37.62</td>\n",
              "    </tr>\n",
              "    <tr>\n",
              "      <th>4</th>\n",
              "      <td>0.0</td>\n",
              "      <td>Afghanistan</td>\n",
              "      <td>2020-01-26</td>\n",
              "      <td>0.0</td>\n",
              "      <td>NaN</td>\n",
              "      <td>5.0</td>\n",
              "      <td>33.0</td>\n",
              "      <td>65.0</td>\n",
              "      <td>NaN</td>\n",
              "      <td>Afghanistan</td>\n",
              "      <td>5</td>\n",
              "      <td>0</td>\n",
              "      <td>0</td>\n",
              "      <td>0.0</td>\n",
              "      <td>0.0</td>\n",
              "      <td>0.0</td>\n",
              "      <td>0.0</td>\n",
              "      <td>0.0</td>\n",
              "      <td>0.0</td>\n",
              "      <td>0.0</td>\n",
              "      <td>0.0</td>\n",
              "      <td>0</td>\n",
              "      <td>0</td>\n",
              "      <td>0</td>\n",
              "      <td>0</td>\n",
              "      <td>0</td>\n",
              "      <td>0</td>\n",
              "      <td>20.475517</td>\n",
              "      <td>18.734</td>\n",
              "      <td>76.486</td>\n",
              "      <td>513.108</td>\n",
              "      <td>0.054</td>\n",
              "      <td>NaN</td>\n",
              "      <td>36.51</td>\n",
              "      <td>64.5</td>\n",
              "      <td>60.0</td>\n",
              "      <td>18.0</td>\n",
              "      <td>25.0</td>\n",
              "      <td>0.5</td>\n",
              "      <td>1.03</td>\n",
              "      <td>37.62</td>\n",
              "    </tr>\n",
              "  </tbody>\n",
              "</table>\n",
              "</div>"
            ],
            "text/plain": [
              "   ConfirmedCases Country/Region  ... Sex ratio  Death rate from lung diseases\n",
              "0             0.0    Afghanistan  ...      1.03                          37.62\n",
              "1             0.0    Afghanistan  ...      1.03                          37.62\n",
              "2             0.0    Afghanistan  ...      1.03                          37.62\n",
              "3             0.0    Afghanistan  ...      1.03                          37.62\n",
              "4             0.0    Afghanistan  ...      1.03                          37.62\n",
              "\n",
              "[5 rows x 41 columns]"
            ]
          },
          "metadata": {
            "tags": []
          },
          "execution_count": 2
        }
      ]
    },
    {
      "cell_type": "code",
      "metadata": {
        "id": "2sknxxVc7pMO",
        "colab_type": "code",
        "colab": {
          "base_uri": "https://localhost:8080/",
          "height": 706
        },
        "outputId": "88cb5113-e8a2-4022-c3ea-fc48cf98a75b"
      },
      "source": [
        "for col in df.columns:\n",
        "    print(\"'\"+col+\"',\")"
      ],
      "execution_count": 3,
      "outputs": [
        {
          "output_type": "stream",
          "text": [
            "'ConfirmedCases',\n",
            "'Country/Region',\n",
            "'Date',\n",
            "'Fatalities',\n",
            "'ForecastId',\n",
            "'Id',\n",
            "'Lat',\n",
            "'Long',\n",
            "'Province/State',\n",
            "'Place',\n",
            "'Day',\n",
            "'Cases/day',\n",
            "'Fatals/day',\n",
            "'Cases yesterday',\n",
            "'Cases last week',\n",
            "'Cases 2weeks ago',\n",
            "'Cases 3weeks ago',\n",
            "'Fatals yesterday',\n",
            "'Fatals last week',\n",
            "'Fatals 2weeks ago',\n",
            "'Fatals 3weeks ago',\n",
            "'Days since 1st case',\n",
            "'Days since 10th case',\n",
            "'Days since 100th case',\n",
            "'Days since 1st fatal',\n",
            "'Days since 10th fatal',\n",
            "'Days since 100th fatal',\n",
            "'Smoking rate',\n",
            "'Nominal GDP',\n",
            "'GDP based on PPP',\n",
            "'GDP per capita',\n",
            "'GDP based on PPP share of world total',\n",
            "'Unemployment rate',\n",
            "'Population',\n",
            "'Life expectancy',\n",
            "'Population density',\n",
            "'Median age',\n",
            "'Urban population %',\n",
            "'Hospital beds',\n",
            "'Sex ratio',\n",
            "'Death rate from lung diseases',\n"
          ],
          "name": "stdout"
        }
      ]
    },
    {
      "cell_type": "markdown",
      "metadata": {
        "id": "ToGvx21P7pMS",
        "colab_type": "text"
      },
      "source": [
        "Start from predicting confirmed cases."
      ]
    },
    {
      "cell_type": "code",
      "metadata": {
        "id": "f-Mdidx87pMS",
        "colab_type": "code",
        "colab": {}
      },
      "source": [
        "# Select features\n",
        "col_target = 'Cases/day'\n",
        "col_features = [\n",
        "    #'ConfirmedCases',\n",
        "    #'Country/Region',\n",
        "    #'Date',\n",
        "    #'Fatalities',\n",
        "    #'ForecastId',\n",
        "    #'Id',\n",
        "    'Lat',\n",
        "    'Long',\n",
        "    #'Province/State',\n",
        "    #'Place',\n",
        "    #'Day',\n",
        "    #'Cases/day',\n",
        "    #'Fatals/day',\n",
        "    'Cases yesterday',\n",
        "    'Cases last week',\n",
        "    'Cases 2weeks ago',\n",
        "    'Cases 3weeks ago',\n",
        "    'Fatals yesterday',\n",
        "    'Fatals last week',\n",
        "    'Fatals 2weeks ago',\n",
        "    'Fatals 3weeks ago',\n",
        "    'Days since 1st case',\n",
        "    'Days since 10th case',\n",
        "    'Days since 100th case',\n",
        "    'Days since 1st fatal',\n",
        "    'Days since 10th fatal',\n",
        "    'Days since 100th fatal',\n",
        "    'Smoking rate',\n",
        "    'Nominal GDP',\n",
        "    'GDP based on PPP',\n",
        "    'GDP per capita',\n",
        "    'GDP based on PPP share of world total',\n",
        "    'Unemployment rate',\n",
        "    'Population',\n",
        "    'Life expectancy',\n",
        "    'Population density',\n",
        "    'Median age',\n",
        "    'Urban population %',\n",
        "    'Hospital beds',\n",
        "    'Sex ratio',\n",
        "    'Death rate from lung diseases'\n",
        "]"
      ],
      "execution_count": 0,
      "outputs": []
    },
    {
      "cell_type": "code",
      "metadata": {
        "id": "wVxOMm6z7pMW",
        "colab_type": "code",
        "colab": {}
      },
      "source": [
        "# Fill in missing values by column median\n",
        "for col in col_features:\n",
        "    df[col] = df[col].fillna(df[col].median())"
      ],
      "execution_count": 0,
      "outputs": []
    },
    {
      "cell_type": "code",
      "metadata": {
        "id": "CoCp0n7T7pMZ",
        "colab_type": "code",
        "colab": {
          "base_uri": "https://localhost:8080/",
          "height": 538
        },
        "outputId": "f5129511-2b03-4b00-c777-551cde99ba73"
      },
      "source": [
        "pd.isna(df[col_features]).sum()"
      ],
      "execution_count": 6,
      "outputs": [
        {
          "output_type": "execute_result",
          "data": {
            "text/plain": [
              "Lat                                      0\n",
              "Long                                     0\n",
              "Cases yesterday                          0\n",
              "Cases last week                          0\n",
              "Cases 2weeks ago                         0\n",
              "Cases 3weeks ago                         0\n",
              "Fatals yesterday                         0\n",
              "Fatals last week                         0\n",
              "Fatals 2weeks ago                        0\n",
              "Fatals 3weeks ago                        0\n",
              "Days since 1st case                      0\n",
              "Days since 10th case                     0\n",
              "Days since 100th case                    0\n",
              "Days since 1st fatal                     0\n",
              "Days since 10th fatal                    0\n",
              "Days since 100th fatal                   0\n",
              "Smoking rate                             0\n",
              "Nominal GDP                              0\n",
              "GDP based on PPP                         0\n",
              "GDP per capita                           0\n",
              "GDP based on PPP share of world total    0\n",
              "Unemployment rate                        0\n",
              "Population                               0\n",
              "Life expectancy                          0\n",
              "Population density                       0\n",
              "Median age                               0\n",
              "Urban population %                       0\n",
              "Hospital beds                            0\n",
              "Sex ratio                                0\n",
              "Death rate from lung diseases            0\n",
              "dtype: int64"
            ]
          },
          "metadata": {
            "tags": []
          },
          "execution_count": 6
        }
      ]
    },
    {
      "cell_type": "code",
      "metadata": {
        "id": "nkDWPVOC7pMd",
        "colab_type": "code",
        "colab": {
          "base_uri": "https://localhost:8080/",
          "height": 34
        },
        "outputId": "667b2000-59e3-4176-def6-6ca68e9a0f08"
      },
      "source": [
        "len(col_features)"
      ],
      "execution_count": 7,
      "outputs": [
        {
          "output_type": "execute_result",
          "data": {
            "text/plain": [
              "30"
            ]
          },
          "metadata": {
            "tags": []
          },
          "execution_count": 7
        }
      ]
    },
    {
      "cell_type": "code",
      "metadata": {
        "colab_type": "code",
        "id": "Ip1uHqZoj-OP",
        "colab": {}
      },
      "source": [
        "# Original\n",
        "#Xdata = np.array(df[col_features])\n",
        "#Ydata = np.array(df[col_target])\n",
        "\"\"\"\n",
        "scalex = StandardScaler().fit(np.array(df[col_features]))\n",
        "scaley = StandardScaler().fit(np.array(df[col_target]).reshape(-1, 1))\n",
        "Xdata = scalex.transform(np.array(df[col_features]))\n",
        "Ydata = scaley.transform(np.array(df[col_target]).reshape(-1, 1)).reshape(1, -1)[0]\n",
        "# Normalized\n",
        "\"\"\"\n",
        "Xdata = MinMaxScaler().fit_transform(np.array(df[col_features]))\n",
        "Ydata = np.array(df[col_target])\n",
        "#Ydata = MinMaxScaler().fit_transform(np.array(df[col_target]).reshape(-1, 1)).reshape(1, -1)[0]\n"
      ],
      "execution_count": 0,
      "outputs": []
    },
    {
      "cell_type": "code",
      "metadata": {
        "id": "AXPsPeCB7pMk",
        "colab_type": "code",
        "colab": {
          "base_uri": "https://localhost:8080/",
          "height": 50
        },
        "outputId": "915e28ea-f167-4a38-fcf4-3d281850abbd"
      },
      "source": [
        "# Original\n",
        "print(max(Ydata))\n",
        "print(min(Ydata))"
      ],
      "execution_count": 9,
      "outputs": [
        {
          "output_type": "stream",
          "text": [
            "14840\n",
            "-19849\n"
          ],
          "name": "stdout"
        }
      ]
    },
    {
      "cell_type": "code",
      "metadata": {
        "id": "bYfRLZTE7pMo",
        "colab_type": "code",
        "colab": {
          "base_uri": "https://localhost:8080/",
          "height": 50
        },
        "outputId": "aaadf329-34a3-4ac9-e5d9-415de57075fd"
      },
      "source": [
        "# Normalized\n",
        "print(max(Ydata))\n",
        "print(min(Ydata))"
      ],
      "execution_count": 10,
      "outputs": [
        {
          "output_type": "stream",
          "text": [
            "14840\n",
            "-19849\n"
          ],
          "name": "stdout"
        }
      ]
    },
    {
      "cell_type": "code",
      "metadata": {
        "id": "xOgENNOJ7pMs",
        "colab_type": "code",
        "colab": {
          "base_uri": "https://localhost:8080/",
          "height": 151
        },
        "outputId": "b9059021-30ea-41d7-d57b-9f51acac450c"
      },
      "source": [
        "# Original\n",
        "print(Xdata)\n",
        "print(Ydata)"
      ],
      "execution_count": 11,
      "outputs": [
        {
          "output_type": "stream",
          "text": [
            "[[0.65794962 0.66940075 0.00416052 ... 0.01423143 0.07392996 0.29011946]\n",
            " [0.65794962 0.66940075 0.00416052 ... 0.01423143 0.07392996 0.29011946]\n",
            " [0.65794962 0.66940075 0.00416052 ... 0.01423143 0.07392996 0.29011946]\n",
            " ...\n",
            " [0.23009436 0.55893615 0.00416052 ... 0.12096717 0.06225681 0.1273266 ]\n",
            " [0.23009436 0.55893615 0.00422762 ... 0.12096717 0.06225681 0.1273266 ]\n",
            " [0.23009436 0.55893615 0.00416052 ... 0.12096717 0.06225681 0.1273266 ]]\n",
            "[0 0 0 ... 1 0 0]\n"
          ],
          "name": "stdout"
        }
      ]
    },
    {
      "cell_type": "code",
      "metadata": {
        "id": "5fH3rBpC7pMw",
        "colab_type": "code",
        "colab": {
          "base_uri": "https://localhost:8080/",
          "height": 151
        },
        "outputId": "334da1f8-9e46-4b3d-c621-37bd2319224e"
      },
      "source": [
        "# Normalized\n",
        "print(Xdata)\n",
        "print(Ydata)"
      ],
      "execution_count": 12,
      "outputs": [
        {
          "output_type": "stream",
          "text": [
            "[[0.65794962 0.66940075 0.00416052 ... 0.01423143 0.07392996 0.29011946]\n",
            " [0.65794962 0.66940075 0.00416052 ... 0.01423143 0.07392996 0.29011946]\n",
            " [0.65794962 0.66940075 0.00416052 ... 0.01423143 0.07392996 0.29011946]\n",
            " ...\n",
            " [0.23009436 0.55893615 0.00416052 ... 0.12096717 0.06225681 0.1273266 ]\n",
            " [0.23009436 0.55893615 0.00422762 ... 0.12096717 0.06225681 0.1273266 ]\n",
            " [0.23009436 0.55893615 0.00416052 ... 0.12096717 0.06225681 0.1273266 ]]\n",
            "[0 0 0 ... 1 0 0]\n"
          ],
          "name": "stdout"
        }
      ]
    },
    {
      "cell_type": "code",
      "metadata": {
        "colab_type": "code",
        "id": "pw1N7IJKnqHA",
        "colab": {}
      },
      "source": [
        "random.seed(420)\n",
        "X_train, X_test, y_train, y_test = train_test_split(Xdata, Ydata, test_size=0.2)"
      ],
      "execution_count": 0,
      "outputs": []
    },
    {
      "cell_type": "code",
      "metadata": {
        "colab_type": "code",
        "id": "HXPNVF_MpWhY",
        "outputId": "95f5439c-ad33-4b76-d1af-a75d928815c3",
        "colab": {
          "base_uri": "https://localhost:8080/",
          "height": 34
        }
      },
      "source": [
        "np.shape(X_train)"
      ],
      "execution_count": 14,
      "outputs": [
        {
          "output_type": "execute_result",
          "data": {
            "text/plain": [
              "(14313, 30)"
            ]
          },
          "metadata": {
            "tags": []
          },
          "execution_count": 14
        }
      ]
    },
    {
      "cell_type": "code",
      "metadata": {
        "colab_type": "code",
        "id": "HWbtSRVhpYAT",
        "colab": {}
      },
      "source": [
        "Xtrain = torch.Tensor(X_train)\n",
        "Xtest = torch.Tensor(X_test)\n",
        "ytrain = torch.Tensor(y_train)\n",
        "ytest = torch.Tensor(y_test)"
      ],
      "execution_count": 0,
      "outputs": []
    },
    {
      "cell_type": "markdown",
      "metadata": {
        "colab_type": "text",
        "id": "Ml7w6g6mqrYt"
      },
      "source": [
        "Load the data into dataloaders(batches) for stochastic gradient descent."
      ]
    },
    {
      "cell_type": "code",
      "metadata": {
        "colab_type": "code",
        "id": "sERJcYQ5p0i1",
        "colab": {}
      },
      "source": [
        "train = torch.utils.data.TensorDataset(Xtrain, ytrain)\n",
        "test = torch.utils.data.TensorDataset(Xtest, ytest)\n",
        "\n",
        "# Set batch size to be the square root of the data points\n",
        "train_loader = torch.utils.data.DataLoader(train, batch_size=math.ceil(len(Xtrain)**(1/2)),num_workers=2)\n",
        "test_loader = torch.utils.data.DataLoader(test, batch_size=math.ceil(len(Xtest)**(1/2)), shuffle=False,num_workers=2)"
      ],
      "execution_count": 0,
      "outputs": []
    },
    {
      "cell_type": "markdown",
      "metadata": {
        "id": "2SnaQ0hu7pNB",
        "colab_type": "text"
      },
      "source": [
        "## Build MLP model"
      ]
    },
    {
      "cell_type": "markdown",
      "metadata": {
        "colab_type": "text",
        "id": "0TFnfzpqldDR"
      },
      "source": [
        "Build a three layer neural network for our task. With PyTorch, we only need to specify the forward layers and we get the backpropgation for free."
      ]
    },
    {
      "cell_type": "code",
      "metadata": {
        "colab_type": "code",
        "id": "lJOigEhpkH3i",
        "colab": {}
      },
      "source": [
        "class My_Net(nn.Module): \n",
        "    def __init__(self, input_size, num_neurons):\n",
        "        super(My_Net, self).__init__()\n",
        "        # 3 hidden layers\n",
        "        self.layer_1 = nn.Linear(input_size, num_neurons)\n",
        "        self.layer_2 = nn.Linear(num_neurons, num_neurons)\n",
        "        self.layer_3 = nn.Linear(num_neurons, 1)\n",
        "\n",
        "        # Activation function\n",
        "        self.relu = nn.ReLU()\n",
        "        \n",
        "    def forward(self, input_data):\n",
        "        out = self.layer_1(input_data)\n",
        "        out = self.relu(out)\n",
        "        out = self.layer_2(out)\n",
        "        out = self.relu(out)\n",
        "        out = self.layer_3(out).view(-1)\n",
        "        \n",
        "        return out"
      ],
      "execution_count": 0,
      "outputs": []
    },
    {
      "cell_type": "code",
      "metadata": {
        "id": "KxJibZFL7pNE",
        "colab_type": "code",
        "colab": {
          "base_uri": "https://localhost:8080/",
          "height": 34
        },
        "outputId": "f443ab10-8825-406c-c619-c6f6227de550"
      },
      "source": [
        "len(col_features)"
      ],
      "execution_count": 18,
      "outputs": [
        {
          "output_type": "execute_result",
          "data": {
            "text/plain": [
              "30"
            ]
          },
          "metadata": {
            "tags": []
          },
          "execution_count": 18
        }
      ]
    },
    {
      "cell_type": "code",
      "metadata": {
        "colab_type": "code",
        "id": "uod3kvaWmG1V",
        "colab": {}
      },
      "source": [
        "# Set one input node for each feature, and make number of hidden nodes equals 2/3 of input nodes\n",
        "net=My_Net(input_size=len(col_features), num_neurons=int(len(col_features)*2/3))\n",
        "\n",
        "# MSE loss for regression tasks\n",
        "loss=nn.MSELoss()\n",
        "\n",
        "# Use Adam optimizer\n",
        "opt=torch.optim.Adam(net.parameters(),lr=0.001)"
      ],
      "execution_count": 0,
      "outputs": []
    },
    {
      "cell_type": "markdown",
      "metadata": {
        "id": "nXzpBC7A7pNK",
        "colab_type": "text"
      },
      "source": [
        "Adam: Denote all parameters as W, W^(t+1) - W^t - alpha x delta(W) x Loss"
      ]
    },
    {
      "cell_type": "markdown",
      "metadata": {
        "colab_type": "text",
        "id": "y0Sd7g8NrDhC"
      },
      "source": [
        "Define the training and the testing function."
      ]
    },
    {
      "cell_type": "code",
      "metadata": {
        "colab_type": "code",
        "id": "Lfbxm6GWq97u",
        "colab": {}
      },
      "source": [
        "def train_eval():\n",
        "    loss_sum = 0 # MSE\n",
        "    num_batches = 0\n",
        "    for inputs, target in train_loader:\n",
        "        output = net(inputs)\n",
        "        loss_sum  += loss(output,target).item()\n",
        "        num_batches += 1\n",
        "        \n",
        "    \n",
        "    return loss_sum/num_batches # Return average loss\n",
        "\n",
        "def test_eval():\n",
        "    loss_sum = 0 # MSE\n",
        "    num_batches = 0\n",
        "    for inputs, target in test_loader:\n",
        "        output = net(inputs)\n",
        "        loss_sum  += loss(output,target).item()\n",
        "        num_batches += 1\n",
        "\n",
        "    return loss_sum/num_batches # Return average loss"
      ],
      "execution_count": 0,
      "outputs": []
    },
    {
      "cell_type": "markdown",
      "metadata": {
        "colab_type": "text",
        "id": "a_j8Zx7nuhM4"
      },
      "source": [
        "Train the network and report  the training loss/accuracy."
      ]
    },
    {
      "cell_type": "code",
      "metadata": {
        "colab_type": "code",
        "id": "VHXY1Om7tcO4",
        "colab": {}
      },
      "source": [
        "# Initialize the network using Xavier initialization\n",
        "def weights_init(m):\n",
        "    if isinstance(m, nn.Conv2d) or isinstance(m, nn.Linear):\n",
        "        nn.init.xavier_uniform_(m.weight.data)"
      ],
      "execution_count": 0,
      "outputs": []
    },
    {
      "cell_type": "code",
      "metadata": {
        "scrolled": true,
        "id": "YpS5yF9L7pNQ",
        "colab_type": "code",
        "colab": {
          "base_uri": "https://localhost:8080/",
          "height": 118
        },
        "outputId": "00e8273b-3d45-4aa5-e84b-2fb813ac672f"
      },
      "source": [
        "net.apply(weights_init)"
      ],
      "execution_count": 22,
      "outputs": [
        {
          "output_type": "execute_result",
          "data": {
            "text/plain": [
              "My_Net(\n",
              "  (layer_1): Linear(in_features=30, out_features=20, bias=True)\n",
              "  (layer_2): Linear(in_features=20, out_features=20, bias=True)\n",
              "  (layer_3): Linear(in_features=20, out_features=1, bias=True)\n",
              "  (relu): ReLU()\n",
              ")"
            ]
          },
          "metadata": {
            "tags": []
          },
          "execution_count": 22
        }
      ]
    },
    {
      "cell_type": "markdown",
      "metadata": {
        "id": "VxOzjBO27pNT",
        "colab_type": "text"
      },
      "source": [
        "Start training."
      ]
    },
    {
      "cell_type": "code",
      "metadata": {
        "id": "zCnVZxRJ7pNT",
        "colab_type": "code",
        "colab": {
          "base_uri": "https://localhost:8080/",
          "height": 353
        },
        "outputId": "31786a75-ea3b-4fed-c3c2-f861df639501"
      },
      "source": [
        "epochs = 100\n",
        "train_loss_store = []\n",
        "test_loss_store = []\n",
        "train_acc_store = []\n",
        "test_acc_store = []\n",
        "\n",
        "for epoch in range(epochs):\n",
        "    time1 = time.time()\n",
        "    for i, (x,y) in enumerate(train_loader,0):\n",
        "        opt.zero_grad() # Start each batch with all gradients zero, don't accumulate from past batch\n",
        "        output = net(x)\n",
        "        l = loss(output, y)\n",
        "        l.backward()\n",
        "        opt.step()\n",
        "\n",
        "    train_loss_store.append(train_eval())\n",
        "    test_loss_store.append(test_eval())\n",
        "\n",
        "    time2 = time.time()\n",
        "    if (epoch+1) % 10 == 0:\n",
        "        print('In epoch %i : '%(epoch+1))\n",
        "        print(\"Time lapse: %f secs\" %round((time2-time1),2))"
      ],
      "execution_count": 23,
      "outputs": [
        {
          "output_type": "stream",
          "text": [
            "In epoch 10 : \n",
            "Time lapse: 0.980000 secs\n",
            "In epoch 20 : \n",
            "Time lapse: 0.950000 secs\n",
            "In epoch 30 : \n",
            "Time lapse: 0.970000 secs\n",
            "In epoch 40 : \n",
            "Time lapse: 0.960000 secs\n",
            "In epoch 50 : \n",
            "Time lapse: 0.970000 secs\n",
            "In epoch 60 : \n",
            "Time lapse: 0.970000 secs\n",
            "In epoch 70 : \n",
            "Time lapse: 1.000000 secs\n",
            "In epoch 80 : \n",
            "Time lapse: 0.990000 secs\n",
            "In epoch 90 : \n",
            "Time lapse: 0.990000 secs\n",
            "In epoch 100 : \n",
            "Time lapse: 0.980000 secs\n"
          ],
          "name": "stdout"
        }
      ]
    },
    {
      "cell_type": "markdown",
      "metadata": {
        "colab_type": "text",
        "id": "B7v67mc6wnVv"
      },
      "source": [
        "Visualize the training and testing loss/accuracy."
      ]
    },
    {
      "cell_type": "code",
      "metadata": {
        "colab_type": "code",
        "id": "VfwVN7tkwad0",
        "outputId": "ef78407f-90e9-4653-c216-b7568131614d",
        "colab": {
          "base_uri": "https://localhost:8080/",
          "height": 295
        }
      },
      "source": [
        "# 1000 epochs, not normalized\n",
        "plt.plot(train_loss_store,'r-o')\n",
        "plt.plot(test_loss_store,'b-o')\n",
        "plt.xlabel('number of epochs')\n",
        "plt.ylabel('loss')\n",
        "plt.legend(('train','test'),loc='upper right')\n",
        "plt.title('train and test loss wrt epochs')\n",
        "plt.show()"
      ],
      "execution_count": 24,
      "outputs": [
        {
          "output_type": "display_data",
          "data": {
            "image/png": "[encoded data removed]",
            "text/plain": [
              "<Figure size 432x288 with 1 Axes>"
            ]
          },
          "metadata": {
            "tags": [],
            "needs_background": "light"
          }
        }
      ]
    },
    {
      "cell_type": "code",
      "metadata": {
        "id": "59X159LB7pNc",
        "colab_type": "code",
        "colab": {
          "base_uri": "https://localhost:8080/",
          "height": 295
        },
        "outputId": "ad58cbc1-2710-4231-937a-61b35c4ed11f"
      },
      "source": [
        "# 100 epochs, not normalized\n",
        "plt.plot(train_loss_store,'r-o')\n",
        "plt.plot(test_loss_store,'b-o')\n",
        "plt.xlabel('number of epochs')\n",
        "plt.ylabel('loss')\n",
        "plt.legend(('train','test'),loc='upper right')\n",
        "plt.title('train and test loss wrt epochs')\n",
        "plt.show()"
      ],
      "execution_count": 25,
      "outputs": [
        {
          "output_type": "display_data",
          "data": {
            "image/png": "[encoded data removed]",
            "text/plain": [
              "<Figure size 432x288 with 1 Axes>"
            ]
          },
          "metadata": {
            "tags": [],
            "needs_background": "light"
          }
        }
      ]
    },
    {
      "cell_type": "code",
      "metadata": {
        "id": "5aEBr_dp7pNf",
        "colab_type": "code",
        "colab": {
          "base_uri": "https://localhost:8080/",
          "height": 295
        },
        "outputId": "11646ee9-ff70-4832-835c-6a7a55c6b422"
      },
      "source": [
        "# 1000 epochs, normalized\n",
        "plt.plot(train_loss_store,'r-o')\n",
        "plt.plot(test_loss_store,'b-o')\n",
        "plt.xlabel('number of epochs')\n",
        "plt.ylabel('loss')\n",
        "plt.legend(('train','test'),loc='upper right')\n",
        "plt.title('train and test loss wrt epochs')\n",
        "plt.show()"
      ],
      "execution_count": 26,
      "outputs": [
        {
          "output_type": "display_data",
          "data": {
            "image/png": "[encoded data removed]",
            "text/plain": [
              "<Figure size 432x288 with 1 Axes>"
            ]
          },
          "metadata": {
            "tags": [],
            "needs_background": "light"
          }
        }
      ]
    },
    {
      "cell_type": "code",
      "metadata": {
        "id": "npJHDZjv7pNi",
        "colab_type": "code",
        "colab": {
          "base_uri": "https://localhost:8080/",
          "height": 295
        },
        "outputId": "e0306ae3-9abb-4885-b655-661ac1e827b5"
      },
      "source": [
        "# 100 epochs, normalized\n",
        "plt.plot(train_loss_store,'r-o')\n",
        "plt.plot(test_loss_store,'b-o')\n",
        "plt.xlabel('number of epochs')\n",
        "plt.ylabel('loss')\n",
        "plt.legend(('train','test'),loc='upper right')\n",
        "plt.title('train and test loss wrt epochs')\n",
        "plt.show()"
      ],
      "execution_count": 27,
      "outputs": [
        {
          "output_type": "display_data",
          "data": {
            "image/png": "[encoded data removed]",
            "text/plain": [
              "<Figure size 432x288 with 1 Axes>"
            ]
          },
          "metadata": {
            "tags": [],
            "needs_background": "light"
          }
        }
      ]
    },
    {
      "cell_type": "markdown",
      "metadata": {
        "id": "jVbOyFuA7pNl",
        "colab_type": "text"
      },
      "source": [
        "If loss is increasing, we might want to use a smaller learning rate."
      ]
    },
    {
      "cell_type": "code",
      "metadata": {
        "id": "U1sqsF6a7pNl",
        "colab_type": "code",
        "colab": {
          "base_uri": "https://localhost:8080/",
          "height": 295
        },
        "outputId": "42524825-4477-48df-cfd3-bcf4c79c927c"
      },
      "source": [
        "#Output Entire Model\n",
        "net.eval()\n",
        "#final_output = net(torch.from_numpy(Xdata[:62,:]).float())\n",
        "final_output = net(torch.from_numpy(Xdata).float())\n",
        "plt.plot(final_output.detach().numpy(),'r-o')\n",
        "plt.xlabel('Samples')\n",
        "plt.ylabel('Cases')\n",
        "plt.title('Final Model Predictions Over All Data')\n",
        "plt.show()"
      ],
      "execution_count": 31,
      "outputs": [
        {
          "output_type": "display_data",
          "data": {
            "image/png": "[encoded data removed]",
            "text/plain": [
              "<Figure size 432x288 with 1 Axes>"
            ]
          },
          "metadata": {
            "tags": [],
            "needs_background": "light"
          }
        }
      ]
    },
    {
      "cell_type": "code",
      "metadata": {
        "id": "00CLIGJGHH2k",
        "colab_type": "code",
        "colab": {
          "base_uri": "https://localhost:8080/",
          "height": 295
        },
        "outputId": "7545f2bf-010d-45de-ee2d-2330a6036adb"
      },
      "source": [
        "#plt.plot(Ydata[:62],'b-o')\n",
        "plt.plot(Ydata,'b-o')\n",
        "plt.xlabel('Samples')\n",
        "plt.ylabel('Cases')\n",
        "plt.title('True Cases Over All Data')\n",
        "plt.show()"
      ],
      "execution_count": 32,
      "outputs": [
        {
          "output_type": "display_data",
          "data": {
            "image/png": "[encoded data removed]",
            "text/plain": [
              "<Figure size 432x288 with 1 Axes>"
            ]
          },
          "metadata": {
            "tags": [],
            "needs_background": "light"
          }
        }
      ]
    }
  ]
}