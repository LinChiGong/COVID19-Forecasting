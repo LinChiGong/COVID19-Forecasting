{
 "cells": [
  {
   "cell_type": "code",
   "execution_count": 1,
   "metadata": {
    "colab": {},
    "colab_type": "code",
    "id": "QgLdNfutnbtQ"
   },
   "outputs": [],
   "source": [
    "import pandas as pd\n",
    "import numpy as np\n",
    "import matplotlib.pyplot as plt\n",
    "\n",
    "from sklearn.preprocessing import MinMaxScaler\n",
    "from sklearn.model_selection import train_test_split\n",
    "import random\n",
    "import math\n",
    "\n",
    "import torch\n",
    "import torch.nn as nn\n",
    "import time"
   ]
  },
  {
   "cell_type": "markdown",
   "metadata": {},
   "source": [
    "## Load data"
   ]
  },
  {
   "cell_type": "markdown",
   "metadata": {
    "colab_type": "text",
    "id": "N5ud7ShcnhhD"
   },
   "source": [
    "Load the data into tensors."
   ]
  },
  {
   "cell_type": "code",
   "execution_count": 2,
   "metadata": {},
   "outputs": [
    {
     "name": "stdout",
     "output_type": "stream",
     "text": [
      "(17892, 41)\n"
     ]
    },
    {
     "data": {
      "text/html": [
       "<div>\n",
       "<style scoped>\n",
       "    .dataframe tbody tr th:only-of-type {\n",
       "        vertical-align: middle;\n",
       "    }\n",
       "\n",
       "    .dataframe tbody tr th {\n",
       "        vertical-align: top;\n",
       "    }\n",
       "\n",
       "    .dataframe thead th {\n",
       "        text-align: right;\n",
       "    }\n",
       "</style>\n",
       "<table border=\"1\" class=\"dataframe\">\n",
       "  <thead>\n",
       "    <tr style=\"text-align: right;\">\n",
       "      <th></th>\n",
       "      <th>ConfirmedCases</th>\n",
       "      <th>Country/Region</th>\n",
       "      <th>Date</th>\n",
       "      <th>Fatalities</th>\n",
       "      <th>ForecastId</th>\n",
       "      <th>Id</th>\n",
       "      <th>Lat</th>\n",
       "      <th>Long</th>\n",
       "      <th>Province/State</th>\n",
       "      <th>Place</th>\n",
       "      <th>...</th>\n",
       "      <th>GDP based on PPP share of world total</th>\n",
       "      <th>Unemployment rate</th>\n",
       "      <th>Population</th>\n",
       "      <th>Life expectancy</th>\n",
       "      <th>Population density</th>\n",
       "      <th>Median age</th>\n",
       "      <th>Urban population %</th>\n",
       "      <th>Hospital beds</th>\n",
       "      <th>Sex ratio</th>\n",
       "      <th>Death rate from lung diseases</th>\n",
       "    </tr>\n",
       "  </thead>\n",
       "  <tbody>\n",
       "    <tr>\n",
       "      <th>0</th>\n",
       "      <td>0.0</td>\n",
       "      <td>Afghanistan</td>\n",
       "      <td>2020-01-22</td>\n",
       "      <td>0.0</td>\n",
       "      <td>NaN</td>\n",
       "      <td>1.0</td>\n",
       "      <td>33.0</td>\n",
       "      <td>65.0</td>\n",
       "      <td>NaN</td>\n",
       "      <td>Afghanistan</td>\n",
       "      <td>...</td>\n",
       "      <td>0.054</td>\n",
       "      <td>NaN</td>\n",
       "      <td>36.51</td>\n",
       "      <td>64.5</td>\n",
       "      <td>60.0</td>\n",
       "      <td>18.0</td>\n",
       "      <td>25.0</td>\n",
       "      <td>0.5</td>\n",
       "      <td>1.03</td>\n",
       "      <td>37.62</td>\n",
       "    </tr>\n",
       "    <tr>\n",
       "      <th>1</th>\n",
       "      <td>0.0</td>\n",
       "      <td>Afghanistan</td>\n",
       "      <td>2020-01-23</td>\n",
       "      <td>0.0</td>\n",
       "      <td>NaN</td>\n",
       "      <td>2.0</td>\n",
       "      <td>33.0</td>\n",
       "      <td>65.0</td>\n",
       "      <td>NaN</td>\n",
       "      <td>Afghanistan</td>\n",
       "      <td>...</td>\n",
       "      <td>0.054</td>\n",
       "      <td>NaN</td>\n",
       "      <td>36.51</td>\n",
       "      <td>64.5</td>\n",
       "      <td>60.0</td>\n",
       "      <td>18.0</td>\n",
       "      <td>25.0</td>\n",
       "      <td>0.5</td>\n",
       "      <td>1.03</td>\n",
       "      <td>37.62</td>\n",
       "    </tr>\n",
       "    <tr>\n",
       "      <th>2</th>\n",
       "      <td>0.0</td>\n",
       "      <td>Afghanistan</td>\n",
       "      <td>2020-01-24</td>\n",
       "      <td>0.0</td>\n",
       "      <td>NaN</td>\n",
       "      <td>3.0</td>\n",
       "      <td>33.0</td>\n",
       "      <td>65.0</td>\n",
       "      <td>NaN</td>\n",
       "      <td>Afghanistan</td>\n",
       "      <td>...</td>\n",
       "      <td>0.054</td>\n",
       "      <td>NaN</td>\n",
       "      <td>36.51</td>\n",
       "      <td>64.5</td>\n",
       "      <td>60.0</td>\n",
       "      <td>18.0</td>\n",
       "      <td>25.0</td>\n",
       "      <td>0.5</td>\n",
       "      <td>1.03</td>\n",
       "      <td>37.62</td>\n",
       "    </tr>\n",
       "    <tr>\n",
       "      <th>3</th>\n",
       "      <td>0.0</td>\n",
       "      <td>Afghanistan</td>\n",
       "      <td>2020-01-25</td>\n",
       "      <td>0.0</td>\n",
       "      <td>NaN</td>\n",
       "      <td>4.0</td>\n",
       "      <td>33.0</td>\n",
       "      <td>65.0</td>\n",
       "      <td>NaN</td>\n",
       "      <td>Afghanistan</td>\n",
       "      <td>...</td>\n",
       "      <td>0.054</td>\n",
       "      <td>NaN</td>\n",
       "      <td>36.51</td>\n",
       "      <td>64.5</td>\n",
       "      <td>60.0</td>\n",
       "      <td>18.0</td>\n",
       "      <td>25.0</td>\n",
       "      <td>0.5</td>\n",
       "      <td>1.03</td>\n",
       "      <td>37.62</td>\n",
       "    </tr>\n",
       "    <tr>\n",
       "      <th>4</th>\n",
       "      <td>0.0</td>\n",
       "      <td>Afghanistan</td>\n",
       "      <td>2020-01-26</td>\n",
       "      <td>0.0</td>\n",
       "      <td>NaN</td>\n",
       "      <td>5.0</td>\n",
       "      <td>33.0</td>\n",
       "      <td>65.0</td>\n",
       "      <td>NaN</td>\n",
       "      <td>Afghanistan</td>\n",
       "      <td>...</td>\n",
       "      <td>0.054</td>\n",
       "      <td>NaN</td>\n",
       "      <td>36.51</td>\n",
       "      <td>64.5</td>\n",
       "      <td>60.0</td>\n",
       "      <td>18.0</td>\n",
       "      <td>25.0</td>\n",
       "      <td>0.5</td>\n",
       "      <td>1.03</td>\n",
       "      <td>37.62</td>\n",
       "    </tr>\n",
       "  </tbody>\n",
       "</table>\n",
       "<p>5 rows × 41 columns</p>\n",
       "</div>"
      ],
      "text/plain": [
       "   ConfirmedCases Country/Region        Date  Fatalities  ForecastId   Id  \\\n",
       "0             0.0    Afghanistan  2020-01-22         0.0         NaN  1.0   \n",
       "1             0.0    Afghanistan  2020-01-23         0.0         NaN  2.0   \n",
       "2             0.0    Afghanistan  2020-01-24         0.0         NaN  3.0   \n",
       "3             0.0    Afghanistan  2020-01-25         0.0         NaN  4.0   \n",
       "4             0.0    Afghanistan  2020-01-26         0.0         NaN  5.0   \n",
       "\n",
       "    Lat  Long Province/State        Place  ...  \\\n",
       "0  33.0  65.0            NaN  Afghanistan  ...   \n",
       "1  33.0  65.0            NaN  Afghanistan  ...   \n",
       "2  33.0  65.0            NaN  Afghanistan  ...   \n",
       "3  33.0  65.0            NaN  Afghanistan  ...   \n",
       "4  33.0  65.0            NaN  Afghanistan  ...   \n",
       "\n",
       "   GDP based on PPP share of world total  Unemployment rate  Population  \\\n",
       "0                                  0.054                NaN       36.51   \n",
       "1                                  0.054                NaN       36.51   \n",
       "2                                  0.054                NaN       36.51   \n",
       "3                                  0.054                NaN       36.51   \n",
       "4                                  0.054                NaN       36.51   \n",
       "\n",
       "   Life expectancy  Population density  Median age  Urban population %  \\\n",
       "0             64.5                60.0        18.0                25.0   \n",
       "1             64.5                60.0        18.0                25.0   \n",
       "2             64.5                60.0        18.0                25.0   \n",
       "3             64.5                60.0        18.0                25.0   \n",
       "4             64.5                60.0        18.0                25.0   \n",
       "\n",
       "   Hospital beds  Sex ratio  Death rate from lung diseases  \n",
       "0            0.5       1.03                          37.62  \n",
       "1            0.5       1.03                          37.62  \n",
       "2            0.5       1.03                          37.62  \n",
       "3            0.5       1.03                          37.62  \n",
       "4            0.5       1.03                          37.62  \n",
       "\n",
       "[5 rows x 41 columns]"
      ]
     },
     "execution_count": 2,
     "metadata": {},
     "output_type": "execute_result"
    }
   ],
   "source": [
    "df = pd.read_csv('data/train.csv')\n",
    "print(df.shape)\n",
    "df.head()"
   ]
  },
  {
   "cell_type": "code",
   "execution_count": 3,
   "metadata": {},
   "outputs": [
    {
     "name": "stdout",
     "output_type": "stream",
     "text": [
      "'ConfirmedCases',\n",
      "'Country/Region',\n",
      "'Date',\n",
      "'Fatalities',\n",
      "'ForecastId',\n",
      "'Id',\n",
      "'Lat',\n",
      "'Long',\n",
      "'Province/State',\n",
      "'Place',\n",
      "'Day',\n",
      "'Cases/day',\n",
      "'Fatals/day',\n",
      "'Cases yesterday',\n",
      "'Cases last week',\n",
      "'Cases 2weeks ago',\n",
      "'Cases 3weeks ago',\n",
      "'Fatals yesterday',\n",
      "'Fatals last week',\n",
      "'Fatals 2weeks ago',\n",
      "'Fatals 3weeks ago',\n",
      "'Days since 1st case',\n",
      "'Days since 10th case',\n",
      "'Days since 100th case',\n",
      "'Days since 1st fatal',\n",
      "'Days since 10th fatal',\n",
      "'Days since 100th fatal',\n",
      "'Smoking rate',\n",
      "'Nominal GDP',\n",
      "'GDP based on PPP',\n",
      "'GDP per capita',\n",
      "'GDP based on PPP share of world total',\n",
      "'Unemployment rate',\n",
      "'Population',\n",
      "'Life expectancy',\n",
      "'Population density',\n",
      "'Median age',\n",
      "'Urban population %',\n",
      "'Hospital beds',\n",
      "'Sex ratio',\n",
      "'Death rate from lung diseases',\n"
     ]
    }
   ],
   "source": [
    "for col in df.columns:\n",
    "    print(\"'\"+col+\"',\")"
   ]
  },
  {
   "cell_type": "markdown",
   "metadata": {},
   "source": [
    "Start from predicting confirmed cases."
   ]
  },
  {
   "cell_type": "code",
   "execution_count": 4,
   "metadata": {},
   "outputs": [],
   "source": [
    "# Select the top ten features based on the Feature Selection MethodExtra Tree Regressor\n",
    "col_target = 'Cases/day'\n",
    "col_features = [\n",
    "    'Cases last week', \n",
    "    'Cases yesterday', \n",
    "    'Fatals yesterday', \n",
    "    'Fatals last week', \n",
    "    'Smoking rate', \n",
    "    'Cases 2weeks ago', \n",
    "    'Days since 1st case', \n",
    "    'Hospital beds', \n",
    "    'Days since 100th fatal', \n",
    "    'Days since 10th fatal'\n",
    "]"
   ]
  },
  {
   "cell_type": "code",
   "execution_count": 5,
   "metadata": {},
   "outputs": [],
   "source": [
    "# Fill in missing values by column median\n",
    "for col in col_features:\n",
    "    df[col] = df[col].fillna(df[col].median())"
   ]
  },
  {
   "cell_type": "code",
   "execution_count": 6,
   "metadata": {},
   "outputs": [
    {
     "data": {
      "text/plain": [
       "Cases last week           0\n",
       "Cases yesterday           0\n",
       "Fatals yesterday          0\n",
       "Fatals last week          0\n",
       "Smoking rate              0\n",
       "Cases 2weeks ago          0\n",
       "Days since 1st case       0\n",
       "Hospital beds             0\n",
       "Days since 100th fatal    0\n",
       "Days since 10th fatal     0\n",
       "dtype: int64"
      ]
     },
     "execution_count": 6,
     "metadata": {},
     "output_type": "execute_result"
    }
   ],
   "source": [
    "pd.isna(df[col_features]).sum()"
   ]
  },
  {
   "cell_type": "code",
   "execution_count": 7,
   "metadata": {},
   "outputs": [
    {
     "data": {
      "text/plain": [
       "10"
      ]
     },
     "execution_count": 7,
     "metadata": {},
     "output_type": "execute_result"
    }
   ],
   "source": [
    "len(col_features)"
   ]
  },
  {
   "cell_type": "code",
   "execution_count": 8,
   "metadata": {
    "colab": {},
    "colab_type": "code",
    "id": "Ip1uHqZoj-OP"
   },
   "outputs": [],
   "source": [
    "# Original\n",
    "#Xdata = np.array(df[col_features])\n",
    "#Ydata = np.array(df[col_target])\n",
    "\n",
    "# Normalized\n",
    "Xscaler = MinMaxScaler()\n",
    "Xscaler.fit(np.array(df[col_features]))\n",
    "Xdata = Xscaler.transform(np.array(df[col_features]))\n",
    "\n",
    "Yscaler = MinMaxScaler()\n",
    "Yscaler.fit(np.array(df[col_target]).reshape(-1, 1))\n",
    "Ydata = Yscaler.transform(np.array(df[col_target]).reshape(-1, 1)).reshape(1, -1)[0]"
   ]
  },
  {
   "cell_type": "code",
   "execution_count": 9,
   "metadata": {},
   "outputs": [
    {
     "name": "stdout",
     "output_type": "stream",
     "text": [
      "[0 0 0 2 0 0 0 1 0 0]\n",
      "[0. 0. 0. 2. 0. 0. 0. 1. 0. 0.]\n"
     ]
    }
   ],
   "source": [
    "# De-normalize Ydata\n",
    "Ydata2 = Yscaler.inverse_transform(Ydata.reshape(-1, 1)).reshape(1, -1)[0]\n",
    "print(np.array(df[col_target])[-10:])\n",
    "print(Ydata2[-10:])"
   ]
  },
  {
   "cell_type": "code",
   "execution_count": 10,
   "metadata": {},
   "outputs": [
    {
     "name": "stdout",
     "output_type": "stream",
     "text": [
      "1.0\n",
      "0.0\n"
     ]
    }
   ],
   "source": [
    "# Original\n",
    "print(max(Ydata))\n",
    "print(min(Ydata))"
   ]
  },
  {
   "cell_type": "code",
   "execution_count": 11,
   "metadata": {},
   "outputs": [
    {
     "name": "stdout",
     "output_type": "stream",
     "text": [
      "1.0\n",
      "0.0\n"
     ]
    }
   ],
   "source": [
    "# Normalized\n",
    "print(max(Ydata))\n",
    "print(min(Ydata))"
   ]
  },
  {
   "cell_type": "code",
   "execution_count": 12,
   "metadata": {},
   "outputs": [
    {
     "name": "stdout",
     "output_type": "stream",
     "text": [
      "[[0.00047269 0.00416052 0.00626566 ... 0.01423143 0.         0.        ]\n",
      " [0.00047269 0.00416052 0.00626566 ... 0.01423143 0.         0.        ]\n",
      " [0.00047269 0.00416052 0.00626566 ... 0.01423143 0.         0.        ]\n",
      " ...\n",
      " [0.00052831 0.00416052 0.00626566 ... 0.12096717 0.         0.        ]\n",
      " [0.00055611 0.00422762 0.00626566 ... 0.12096717 0.         0.        ]\n",
      " [0.00055611 0.00416052 0.00626566 ... 0.12096717 0.         0.        ]]\n",
      "[0.57219868 0.57219868 0.57219868 ... 0.57222751 0.57219868 0.57219868]\n"
     ]
    }
   ],
   "source": [
    "# Original\n",
    "print(Xdata)\n",
    "print(Ydata)"
   ]
  },
  {
   "cell_type": "code",
   "execution_count": 13,
   "metadata": {},
   "outputs": [
    {
     "name": "stdout",
     "output_type": "stream",
     "text": [
      "[[0.00047269 0.00416052 0.00626566 ... 0.01423143 0.         0.        ]\n",
      " [0.00047269 0.00416052 0.00626566 ... 0.01423143 0.         0.        ]\n",
      " [0.00047269 0.00416052 0.00626566 ... 0.01423143 0.         0.        ]\n",
      " ...\n",
      " [0.00052831 0.00416052 0.00626566 ... 0.12096717 0.         0.        ]\n",
      " [0.00055611 0.00422762 0.00626566 ... 0.12096717 0.         0.        ]\n",
      " [0.00055611 0.00416052 0.00626566 ... 0.12096717 0.         0.        ]]\n",
      "[0.57219868 0.57219868 0.57219868 ... 0.57222751 0.57219868 0.57219868]\n"
     ]
    }
   ],
   "source": [
    "# Normalized\n",
    "print(Xdata)\n",
    "print(Ydata)"
   ]
  },
  {
   "cell_type": "code",
   "execution_count": 14,
   "metadata": {
    "colab": {},
    "colab_type": "code",
    "id": "pw1N7IJKnqHA"
   },
   "outputs": [],
   "source": [
    "random.seed(420)\n",
    "X_train, X_test, y_train, y_test = train_test_split(Xdata, Ydata, test_size=0.2)"
   ]
  },
  {
   "cell_type": "code",
   "execution_count": 15,
   "metadata": {
    "colab": {
     "base_uri": "https://localhost:8080/",
     "height": 34
    },
    "colab_type": "code",
    "id": "HXPNVF_MpWhY",
    "outputId": "77210035-6ddb-4782-aa3c-5fbdb06bac0c"
   },
   "outputs": [
    {
     "data": {
      "text/plain": [
       "(14313, 10)"
      ]
     },
     "execution_count": 15,
     "metadata": {},
     "output_type": "execute_result"
    }
   ],
   "source": [
    "np.shape(X_train)"
   ]
  },
  {
   "cell_type": "code",
   "execution_count": 16,
   "metadata": {
    "colab": {},
    "colab_type": "code",
    "id": "HWbtSRVhpYAT"
   },
   "outputs": [],
   "source": [
    "Xtrain = torch.Tensor(X_train)\n",
    "Xtest = torch.Tensor(X_test)\n",
    "ytrain = torch.Tensor(y_train)\n",
    "ytest = torch.Tensor(y_test)"
   ]
  },
  {
   "cell_type": "markdown",
   "metadata": {
    "colab_type": "text",
    "id": "Ml7w6g6mqrYt"
   },
   "source": [
    "Load the data into dataloaders(batches) for stochastic gradient descent."
   ]
  },
  {
   "cell_type": "code",
   "execution_count": 17,
   "metadata": {
    "colab": {},
    "colab_type": "code",
    "id": "sERJcYQ5p0i1"
   },
   "outputs": [],
   "source": [
    "train = torch.utils.data.TensorDataset(Xtrain, ytrain)\n",
    "test = torch.utils.data.TensorDataset(Xtest, ytest)\n",
    "\n",
    "# Set batch size to be the square root of the data points\n",
    "train_loader = torch.utils.data.DataLoader(train, batch_size=math.ceil(len(Xtrain)**(1/2)),num_workers=2)\n",
    "test_loader = torch.utils.data.DataLoader(test, batch_size=math.ceil(len(Xtest)**(1/2)), shuffle=False,num_workers=2)"
   ]
  },
  {
   "cell_type": "markdown",
   "metadata": {},
   "source": [
    "## Build MLP model"
   ]
  },
  {
   "cell_type": "markdown",
   "metadata": {
    "colab_type": "text",
    "id": "0TFnfzpqldDR"
   },
   "source": [
    "Build a three layer neural network for our task. With PyTorch, we only need to specify the forward layers and we get the backpropgation for free."
   ]
  },
  {
   "cell_type": "code",
   "execution_count": 18,
   "metadata": {
    "colab": {},
    "colab_type": "code",
    "id": "lJOigEhpkH3i"
   },
   "outputs": [],
   "source": [
    "class My_Net(nn.Module): \n",
    "    def __init__(self, input_size, num_neurons):\n",
    "        super(My_Net, self).__init__()\n",
    "        # 3 hidden layers\n",
    "        self.layer_1 = nn.Linear(input_size, num_neurons)\n",
    "        self.layer_2 = nn.Linear(num_neurons, num_neurons)\n",
    "        self.layer_3 = nn.Linear(num_neurons, 1)\n",
    "\n",
    "        # Activation function\n",
    "        self.relu = nn.ReLU()\n",
    "        \n",
    "    def forward(self, input_data):\n",
    "        out = self.layer_1(input_data)\n",
    "        out = self.relu(out)\n",
    "        out = self.layer_2(out)\n",
    "        out = self.relu(out)\n",
    "        out = self.layer_3(out).view(-1)\n",
    "        \n",
    "        return out"
   ]
  },
  {
   "cell_type": "code",
   "execution_count": 19,
   "metadata": {},
   "outputs": [
    {
     "data": {
      "text/plain": [
       "10"
      ]
     },
     "execution_count": 19,
     "metadata": {},
     "output_type": "execute_result"
    }
   ],
   "source": [
    "len(col_features)"
   ]
  },
  {
   "cell_type": "code",
   "execution_count": 20,
   "metadata": {
    "colab": {},
    "colab_type": "code",
    "id": "uod3kvaWmG1V"
   },
   "outputs": [],
   "source": [
    "# Set one input node for each feature, and make number of hidden nodes equals 2/3 of input nodes\n",
    "net=My_Net(input_size=len(col_features), num_neurons=int(len(col_features)*2/3))\n",
    "\n",
    "# MSE loss for regression tasks\n",
    "loss=nn.MSELoss()\n",
    "\n",
    "# Use Adam optimizer\n",
    "opt=torch.optim.Adam(net.parameters(),lr=0.001)"
   ]
  },
  {
   "cell_type": "markdown",
   "metadata": {},
   "source": [
    "Adam: Denote all parameters as W, W^(t+1) - W^t - alpha x delta(W) x Loss"
   ]
  },
  {
   "cell_type": "markdown",
   "metadata": {
    "colab_type": "text",
    "id": "y0Sd7g8NrDhC"
   },
   "source": [
    "Define the training and the testing function."
   ]
  },
  {
   "cell_type": "code",
   "execution_count": 21,
   "metadata": {
    "colab": {},
    "colab_type": "code",
    "id": "Lfbxm6GWq97u"
   },
   "outputs": [],
   "source": [
    "def train_eval():\n",
    "    loss_sum = 0 # MSE\n",
    "    num_batches = 0\n",
    "    for inputs, target in train_loader:\n",
    "        output = net(inputs)\n",
    "        loss_sum  += loss(output,target).item()\n",
    "        num_batches += 1\n",
    "    \n",
    "    return loss_sum/num_batches # Return average loss\n",
    "\n",
    "def test_eval():\n",
    "    loss_sum = 0 # MSE\n",
    "    num_batches = 0\n",
    "    for inputs, target in test_loader:\n",
    "        output = net(inputs)\n",
    "        loss_sum  += loss(output,target).item()\n",
    "        num_batches += 1\n",
    "\n",
    "    return loss_sum/num_batches # Return average loss"
   ]
  },
  {
   "cell_type": "markdown",
   "metadata": {
    "colab_type": "text",
    "id": "a_j8Zx7nuhM4"
   },
   "source": [
    "Train the network and report  the training loss/accuracy."
   ]
  },
  {
   "cell_type": "code",
   "execution_count": 22,
   "metadata": {
    "colab": {
     "base_uri": "https://localhost:8080/",
     "height": 136
    },
    "colab_type": "code",
    "id": "VHXY1Om7tcO4",
    "outputId": "61694aff-b86b-4cdf-cbf4-5ac5fd7daa22"
   },
   "outputs": [],
   "source": [
    "# Initialize the network using Xavier initialization\n",
    "def weights_init(m):\n",
    "    if isinstance(m, nn.Conv2d) or isinstance(m, nn.Linear):\n",
    "        nn.init.xavier_uniform_(m.weight.data)"
   ]
  },
  {
   "cell_type": "code",
   "execution_count": 23,
   "metadata": {
    "scrolled": true
   },
   "outputs": [
    {
     "data": {
      "text/plain": [
       "My_Net(\n",
       "  (layer_1): Linear(in_features=10, out_features=6, bias=True)\n",
       "  (layer_2): Linear(in_features=6, out_features=6, bias=True)\n",
       "  (layer_3): Linear(in_features=6, out_features=1, bias=True)\n",
       "  (relu): ReLU()\n",
       ")"
      ]
     },
     "execution_count": 23,
     "metadata": {},
     "output_type": "execute_result"
    }
   ],
   "source": [
    "net.apply(weights_init)"
   ]
  },
  {
   "cell_type": "markdown",
   "metadata": {},
   "source": [
    "Start training."
   ]
  },
  {
   "cell_type": "code",
   "execution_count": 24,
   "metadata": {},
   "outputs": [
    {
     "name": "stdout",
     "output_type": "stream",
     "text": [
      "In epoch 10 : \n",
      "Time lapse: 1.880000 secs\n",
      "In epoch 20 : \n",
      "Time lapse: 1.850000 secs\n",
      "In epoch 30 : \n",
      "Time lapse: 1.870000 secs\n",
      "In epoch 40 : \n",
      "Time lapse: 1.920000 secs\n",
      "In epoch 50 : \n",
      "Time lapse: 1.940000 secs\n",
      "In epoch 60 : \n",
      "Time lapse: 1.970000 secs\n",
      "In epoch 70 : \n",
      "Time lapse: 2.410000 secs\n",
      "In epoch 80 : \n",
      "Time lapse: 1.920000 secs\n",
      "In epoch 90 : \n",
      "Time lapse: 2.000000 secs\n",
      "In epoch 100 : \n",
      "Time lapse: 1.960000 secs\n"
     ]
    }
   ],
   "source": [
    "epochs = 100\n",
    "train_loss_store = []\n",
    "test_loss_store = []\n",
    "\n",
    "for epoch in range(epochs):\n",
    "    time1 = time.time()\n",
    "    for i, (x,y) in enumerate(train_loader,0):\n",
    "        opt.zero_grad() # Start each batch with all gradients zero, don't accumulate from past batch\n",
    "        output = net(x)\n",
    "        l = loss(output, y)\n",
    "        l.backward()\n",
    "        opt.step()\n",
    "    \n",
    "    train_loss_store.append(train_eval())\n",
    "    test_loss_store.append(test_eval())\n",
    "\n",
    "    time2 = time.time()\n",
    "    if (epoch+1) % 10 == 0:\n",
    "        print('In epoch %i : '%(epoch+1))\n",
    "        print(\"Time lapse: %f secs\" %round((time2-time1),2))"
   ]
  },
  {
   "cell_type": "markdown",
   "metadata": {
    "colab_type": "text",
    "id": "B7v67mc6wnVv"
   },
   "source": [
    "Visualize the training and testing loss/accuracy."
   ]
  },
  {
   "cell_type": "code",
   "execution_count": 25,
   "metadata": {
    "colab": {
     "base_uri": "https://localhost:8080/",
     "height": 295
    },
    "colab_type": "code",
    "id": "VfwVN7tkwad0",
    "outputId": "a0a8d6a5-27de-4d81-9783-7cefb27957ca"
   },
   "outputs": [
    {
     "data": {
      "image/png": "[encoded data removed]",
      "text/plain": [
       "<Figure size 432x288 with 1 Axes>"
      ]
     },
     "metadata": {
      "needs_background": "light"
     },
     "output_type": "display_data"
    }
   ],
   "source": [
    "# 1000 epochs, not normalized\n",
    "plt.plot(train_loss_store,'r-o')\n",
    "plt.plot(test_loss_store,'b-o')\n",
    "plt.xlabel('number of epochs')\n",
    "plt.ylabel('loss')\n",
    "plt.legend(('train','test'),loc='upper right')\n",
    "plt.title('train and test loss wrt epochs')\n",
    "plt.show()"
   ]
  },
  {
   "cell_type": "code",
   "execution_count": 26,
   "metadata": {},
   "outputs": [
    {
     "data": {
      "image/png": "[encoded data removed]",
      "text/plain": [
       "<Figure size 432x288 with 1 Axes>"
      ]
     },
     "metadata": {
      "needs_background": "light"
     },
     "output_type": "display_data"
    }
   ],
   "source": [
    "# 100 epochs, not normalized\n",
    "plt.plot(train_loss_store,'r-o')\n",
    "plt.plot(test_loss_store,'b-o')\n",
    "plt.xlabel('number of epochs')\n",
    "plt.ylabel('loss')\n",
    "plt.legend(('train','test'),loc='upper right')\n",
    "plt.title('train and test loss wrt epochs')\n",
    "plt.show()"
   ]
  },
  {
   "cell_type": "code",
   "execution_count": 27,
   "metadata": {},
   "outputs": [
    {
     "data": {
      "image/png": "[encoded data removed]",
      "text/plain": [
       "<Figure size 432x288 with 1 Axes>"
      ]
     },
     "metadata": {
      "needs_background": "light"
     },
     "output_type": "display_data"
    }
   ],
   "source": [
    "# 1000 epochs, normalized\n",
    "plt.plot(train_loss_store,'r-o')\n",
    "plt.plot(test_loss_store,'b-o')\n",
    "plt.xlabel('number of epochs')\n",
    "plt.ylabel('loss')\n",
    "plt.legend(('train','test'),loc='upper right')\n",
    "plt.title('train and test loss wrt epochs')\n",
    "plt.show()"
   ]
  },
  {
   "cell_type": "code",
   "execution_count": 28,
   "metadata": {},
   "outputs": [
    {
     "data": {
      "image/png": "[encoded data removed]",
      "text/plain": [
       "<Figure size 432x288 with 1 Axes>"
      ]
     },
     "metadata": {
      "needs_background": "light"
     },
     "output_type": "display_data"
    }
   ],
   "source": [
    "# 100 epochs, normalized\n",
    "plt.plot(train_loss_store,'r-o')\n",
    "plt.plot(test_loss_store,'b-o')\n",
    "plt.xlabel('number of epochs')\n",
    "plt.ylabel('loss')\n",
    "plt.legend(('train','test'),loc='upper right')\n",
    "plt.title('train and test loss wrt epochs')\n",
    "plt.show()"
   ]
  },
  {
   "cell_type": "markdown",
   "metadata": {},
   "source": [
    "If loss is increasing, we might want to use a smaller learning rate."
   ]
  },
  {
   "cell_type": "markdown",
   "metadata": {},
   "source": [
    "## Plot results"
   ]
  },
  {
   "cell_type": "code",
   "execution_count": 29,
   "metadata": {
    "scrolled": true
   },
   "outputs": [
    {
     "data": {
      "image/png": "[encoded data removed]",
      "text/plain": [
       "<Figure size 432x288 with 1 Axes>"
      ]
     },
     "metadata": {
      "needs_background": "light"
     },
     "output_type": "display_data"
    }
   ],
   "source": [
    "# Test our model on Hubei, China\n",
    "Xdata_Hubei = Xscaler.transform(np.array(df[df['Place']=='China/Hubei'][col_features]))\n",
    "Xdata_Hubei = torch.Tensor(Xdata_Hubei)\n",
    "output = net(Xdata_Hubei).detach().numpy()\n",
    "output = Yscaler.inverse_transform(output.reshape(-1, 1)).reshape(1, -1)[0] # Denormalize\n",
    "output = np.cumsum(output) # Cumulatively sum up cases/day to get total confirmed cases\n",
    "\n",
    "plt.plot(df[df['Place']=='China/Hubei']['ConfirmedCases'].values) # Actual confirmed cases\n",
    "plt.plot(output)\n",
    "plt.xlabel('day')\n",
    "plt.ylabel('confirmed cases')\n",
    "plt.legend(('actual','predicted'),loc='upper right')\n",
    "plt.title('actual vs. predicted confirmed cases in Hubei, China')\n",
    "plt.show()"
   ]
  },
  {
   "cell_type": "code",
   "execution_count": 30,
   "metadata": {
    "scrolled": true
   },
   "outputs": [
    {
     "data": {
      "image/png": "[encoded data removed]",
      "text/plain": [
       "<Figure size 432x288 with 1 Axes>"
      ]
     },
     "metadata": {
      "needs_background": "light"
     },
     "output_type": "display_data"
    }
   ],
   "source": [
    "# Test our model on Italy\n",
    "Xdata_Italy = Xscaler.transform(np.array(df[df['Place']=='Italy'][col_features]))\n",
    "Xdata_Italy = torch.Tensor(Xdata_Italy)\n",
    "output = net(Xdata_Italy).detach().numpy()\n",
    "output = Yscaler.inverse_transform(output.reshape(-1, 1)).reshape(1, -1)[0] # Denormalize\n",
    "output = np.cumsum(output) # Cumulatively sum up cases/day to get total confirmed cases\n",
    "\n",
    "plt.plot(df[df['Place']=='Italy']['ConfirmedCases'].values) # Actual confirmed cases\n",
    "plt.plot(output)\n",
    "plt.xlabel('day')\n",
    "plt.ylabel('confirmed cases')\n",
    "plt.legend(('actual','predicted'),loc='upper right')\n",
    "plt.title('actual vs. predicted confirmed cases in Italy')\n",
    "plt.show()"
   ]
  },
  {
   "cell_type": "code",
   "execution_count": 31,
   "metadata": {},
   "outputs": [
    {
     "data": {
      "image/png": "[encoded data removed]",
      "text/plain": [
       "<Figure size 432x288 with 1 Axes>"
      ]
     },
     "metadata": {
      "needs_background": "light"
     },
     "output_type": "display_data"
    }
   ],
   "source": [
    "# Test our model on Spain\n",
    "Xdata_Spain = Xscaler.transform(np.array(df[df['Place']=='Spain'][col_features]))\n",
    "Xdata_Spain = torch.Tensor(Xdata_Spain)\n",
    "output = net(Xdata_Spain).detach().numpy()\n",
    "output = Yscaler.inverse_transform(output.reshape(-1, 1)).reshape(1, -1)[0] # Denormalize\n",
    "output = np.cumsum(output) # Cumulatively sum up cases/day to get total confirmed cases\n",
    "\n",
    "plt.plot(df[df['Place']=='Spain']['ConfirmedCases'].values) # Actual confirmed cases\n",
    "plt.plot(output)\n",
    "plt.xlabel('day')\n",
    "plt.ylabel('confirmed cases')\n",
    "plt.legend(('actual','predicted'),loc='upper right')\n",
    "plt.title('actual vs. predicted confirmed cases in Spain')\n",
    "plt.show()"
   ]
  },
  {
   "cell_type": "markdown",
   "metadata": {},
   "source": [
    "## Permutation feature importance"
   ]
  },
  {
   "cell_type": "code",
   "execution_count": 32,
   "metadata": {},
   "outputs": [
    {
     "name": "stdout",
     "output_type": "stream",
     "text": [
      "46268.9765625\n"
     ]
    }
   ],
   "source": [
    "# True loss\n",
    "Xdata_all = Xscaler.transform(np.array(df[col_features]))\n",
    "Xdata_all = torch.Tensor(Xdata_all)\n",
    "output = net(Xdata_all).detach().numpy()\n",
    "output = Yscaler.inverse_transform(output.reshape(-1, 1)).reshape(1, -1)[0] # Denormalize\n",
    "true_loss = loss(torch.Tensor(df['Cases/day'].values), torch.Tensor(output)).item()\n",
    "print(true_loss)"
   ]
  },
  {
   "cell_type": "code",
   "execution_count": 33,
   "metadata": {},
   "outputs": [],
   "source": [
    "# Permutate each columns and calculate loss\n",
    "import copy\n",
    "\n",
    "random.seed(300)\n",
    "\n",
    "col_loss = []\n",
    "for col in col_features:\n",
    "    tmp = copy.deepcopy(df)\n",
    "    tmp[col] = np.random.permutation(df[col].values) # Shuffle the column\n",
    "    tmp_Xdata_all = Xscaler.transform(np.array(tmp[col_features]))\n",
    "    tmp_Xdata_all = torch.Tensor(tmp_Xdata_all)\n",
    "    output = net(tmp_Xdata_all).detach().numpy()\n",
    "    output = Yscaler.inverse_transform(output.reshape(-1, 1)).reshape(1, -1)[0] # Denormalize\n",
    "    tmp_loss = loss(torch.Tensor(df['Cases/day'].values), torch.Tensor(output)).item()\n",
    "    col_loss.append(tmp_loss) # Record the change in loss in percentages"
   ]
  },
  {
   "cell_type": "code",
   "execution_count": 34,
   "metadata": {},
   "outputs": [],
   "source": [
    "# Record the change in loss in percentages in dictionary. Larger loss indicates larger importance\n",
    "col_loss_dic = {}\n",
    "for i in range(len(col_loss)):    \n",
    "    col_loss_dic[col_features[i]] = (col_loss[i]-true_loss)/true_loss * 100\n",
    "sorted_loss_dic = {k: v for k, v in sorted(col_loss_dic.items(), key=lambda item: item[1], reverse=True)}"
   ]
  },
  {
   "cell_type": "code",
   "execution_count": 35,
   "metadata": {},
   "outputs": [
    {
     "data": {
      "image/png": "[encoded data removed]",
      "text/plain": [
       "<Figure size 1152x576 with 1 Axes>"
      ]
     },
     "metadata": {
      "needs_background": "light"
     },
     "output_type": "display_data"
    }
   ],
   "source": [
    "# Visualize feature importance\n",
    "x = []\n",
    "y = []\n",
    "for k, v in sorted_loss_dic.items():\n",
    "    x.append(k)\n",
    "    y.append(v)\n",
    "\n",
    "plt.figure(figsize=(16, 8))\n",
    "plt.barh(x, y)\n",
    "plt.gca().invert_yaxis()\n",
    "plt.xlabel('feature importance')\n",
    "plt.ylabel('features')\n",
    "plt.title('permutation feature importance determined by % change in loss')\n",
    "plt.show()"
   ]
  },
  {
   "cell_type": "markdown",
   "metadata": {},
   "source": [
    "The importance of GDP is unexpectedly big!"
   ]
  },
  {
   "cell_type": "code",
   "execution_count": 36,
   "metadata": {},
   "outputs": [
    {
     "data": {
      "image/png": "[encoded data removed]",
      "text/plain": [
       "<Figure size 1152x576 with 1 Axes>"
      ]
     },
     "metadata": {
      "needs_background": "light"
     },
     "output_type": "display_data"
    }
   ],
   "source": [
    "# Visualize feature importance\n",
    "x = []\n",
    "y = []\n",
    "for k, v in sorted_loss_dic.items():\n",
    "    x.append(k)\n",
    "    y.append(v)\n",
    "\n",
    "plt.figure(figsize=(16, 8))\n",
    "plt.barh(x, y)\n",
    "plt.gca().invert_yaxis()\n",
    "plt.xlabel('feature importance')\n",
    "plt.ylabel('features')\n",
    "plt.title('permutation feature importance determined by % change in loss')\n",
    "plt.show()"
   ]
  },
  {
   "cell_type": "code",
   "execution_count": null,
   "metadata": {},
   "outputs": [],
   "source": []
  },
  {
   "cell_type": "code",
   "execution_count": null,
   "metadata": {},
   "outputs": [],
   "source": []
  },
  {
   "cell_type": "code",
   "execution_count": null,
   "metadata": {},
   "outputs": [],
   "source": []
  }
 ],
 "metadata": {
  "accelerator": "GPU",
  "colab": {
   "collapsed_sections": [],
   "name": "DL_in_DO_pytorch.ipynb",
   "provenance": []
  },
  "kernelspec": {
   "display_name": "Python 3",
   "language": "python",
   "name": "python3"
  },
  "language_info": {
   "codemirror_mode": {
    "name": "ipython",
    "version": 3
   },
   "file_extension": ".py",
   "mimetype": "text/x-python",
   "name": "python",
   "nbconvert_exporter": "python",
   "pygments_lexer": "ipython3",
   "version": "3.7.3"
  }
 },
 "nbformat": 4,
 "nbformat_minor": 1
}
